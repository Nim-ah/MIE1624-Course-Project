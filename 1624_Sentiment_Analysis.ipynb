{
  "nbformat": 4,
  "nbformat_minor": 0,
  "metadata": {
    "colab": {
      "provenance": [],
      "include_colab_link": true
    },
    "kernelspec": {
      "name": "python3",
      "display_name": "Python 3"
    },
    "language_info": {
      "name": "python"
    },
    "gpuClass": "standard"
  },
  "cells": [
    {
      "cell_type": "markdown",
      "metadata": {
        "id": "view-in-github",
        "colab_type": "text"
      },
      "source": [
        "<a href=\"https://colab.research.google.com/github/Nim-ah/MIE1624-Course-Project/blob/main/1624_Sentiment_Analysis.ipynb\" target=\"_parent\"><img src=\"https://colab.research.google.com/assets/colab-badge.svg\" alt=\"Open In Colab\"/></a>"
      ]
    },
    {
      "cell_type": "code",
      "source": [
        "import pandas as pd\n",
        "import numpy as np\n",
        "import re\n",
        "import seaborn as sns\n",
        "import matplotlib.pyplot as plt\n",
        "from sklearn.linear_model import LogisticRegression\n",
        "from sklearn.svm import LinearSVC\n",
        "from sklearn.naive_bayes import GaussianNB, BernoulliNB, MultinomialNB\n",
        "from sklearn.model_selection import train_test_split\n",
        "from sklearn.exceptions import ConvergenceWarning\n",
        "from sklearn.naive_bayes import BernoulliNB\n",
        "from sklearn.model_selection import GridSearchCV\n",
        "from sklearn.metrics import roc_curve, auc, f1_score, accuracy_score, roc_auc_score, confusion_matrix\n",
        "from sklearn.ensemble import RandomForestClassifier\n",
        "import nltk\n",
        "nltk.download('stopwords')\n",
        "nltk.download('wordnet')\n",
        "nltk.download('omw-1.4')\n",
        "nltk.download('punkt')\n",
        "nltk.download('vader_lexicon')\n",
        "from nltk.tokenize import RegexpTokenizer\n",
        "from collections import Counter\n",
        "from nltk.tokenize import RegexpTokenizer\n",
        "from nltk.corpus import stopwords\n",
        "from nltk.stem import PorterStemmer, WordNetLemmatizer\n",
        "from sklearn.feature_extraction.text import TfidfVectorizer"
      ],
      "metadata": {
        "colab": {
          "base_uri": "https://localhost:8080/"
        },
        "id": "MmydpwKIJ9X5",
        "outputId": "d25a93b4-2cb8-414e-bc12-6d1b47e01e09"
      },
      "execution_count": 56,
      "outputs": [
        {
          "output_type": "stream",
          "name": "stderr",
          "text": [
            "[nltk_data] Downloading package stopwords to /root/nltk_data...\n",
            "[nltk_data]   Package stopwords is already up-to-date!\n",
            "[nltk_data] Downloading package wordnet to /root/nltk_data...\n",
            "[nltk_data]   Package wordnet is already up-to-date!\n",
            "[nltk_data] Downloading package omw-1.4 to /root/nltk_data...\n",
            "[nltk_data]   Package omw-1.4 is already up-to-date!\n",
            "[nltk_data] Downloading package punkt to /root/nltk_data...\n",
            "[nltk_data]   Package punkt is already up-to-date!\n",
            "[nltk_data] Downloading package vader_lexicon to /root/nltk_data...\n"
          ]
        }
      ]
    },
    {
      "cell_type": "markdown",
      "source": [
        "Some incorporated code and references:\n",
        "https://www.kaggle.com/code/hansamaheshwari/twitter-sentiment-analysis-lr-hansa\n"
      ],
      "metadata": {
        "id": "o8SasrPJ8yNW"
      }
    },
    {
      "cell_type": "markdown",
      "source": [
        "# Part 1\n",
        "## Data Pre-Processing"
      ],
      "metadata": {
        "id": "ofe1ASdLkCVz"
      }
    },
    {
      "cell_type": "code",
      "execution_count": null,
      "metadata": {
        "id": "B4R52QKcBpJg",
        "colab": {
          "base_uri": "https://localhost:8080/",
          "height": 206
        },
        "outputId": "dc742ed7-81b9-4c56-dd50-e6744c6f22d4"
      },
      "outputs": [
        {
          "output_type": "execute_result",
          "data": {
            "text/plain": [
              "             ID                                               text  label\n",
              "0  7.680980e+17  Josh Jenkins is looking forward to TAB Breeder...      1\n",
              "1  7.680980e+17  RT @MianUsmanJaved: Congratulations Pakistan o...      1\n",
              "2  7.680980e+17  RT @PEPalerts: This September, @YESmag is taki...      1\n",
              "3  7.680980e+17  RT @david_gaibis: Newly painted walls, thanks ...      1\n",
              "4  7.680980e+17  RT @CedricFeschotte: Excited to announce: as o...      1"
            ],
            "text/html": [
              "\n",
              "  <div id=\"df-a66711c1-b7af-43c4-a9ab-4270ae9b25a2\">\n",
              "    <div class=\"colab-df-container\">\n",
              "      <div>\n",
              "<style scoped>\n",
              "    .dataframe tbody tr th:only-of-type {\n",
              "        vertical-align: middle;\n",
              "    }\n",
              "\n",
              "    .dataframe tbody tr th {\n",
              "        vertical-align: top;\n",
              "    }\n",
              "\n",
              "    .dataframe thead th {\n",
              "        text-align: right;\n",
              "    }\n",
              "</style>\n",
              "<table border=\"1\" class=\"dataframe\">\n",
              "  <thead>\n",
              "    <tr style=\"text-align: right;\">\n",
              "      <th></th>\n",
              "      <th>ID</th>\n",
              "      <th>text</th>\n",
              "      <th>label</th>\n",
              "    </tr>\n",
              "  </thead>\n",
              "  <tbody>\n",
              "    <tr>\n",
              "      <th>0</th>\n",
              "      <td>7.680980e+17</td>\n",
              "      <td>Josh Jenkins is looking forward to TAB Breeder...</td>\n",
              "      <td>1</td>\n",
              "    </tr>\n",
              "    <tr>\n",
              "      <th>1</th>\n",
              "      <td>7.680980e+17</td>\n",
              "      <td>RT @MianUsmanJaved: Congratulations Pakistan o...</td>\n",
              "      <td>1</td>\n",
              "    </tr>\n",
              "    <tr>\n",
              "      <th>2</th>\n",
              "      <td>7.680980e+17</td>\n",
              "      <td>RT @PEPalerts: This September, @YESmag is taki...</td>\n",
              "      <td>1</td>\n",
              "    </tr>\n",
              "    <tr>\n",
              "      <th>3</th>\n",
              "      <td>7.680980e+17</td>\n",
              "      <td>RT @david_gaibis: Newly painted walls, thanks ...</td>\n",
              "      <td>1</td>\n",
              "    </tr>\n",
              "    <tr>\n",
              "      <th>4</th>\n",
              "      <td>7.680980e+17</td>\n",
              "      <td>RT @CedricFeschotte: Excited to announce: as o...</td>\n",
              "      <td>1</td>\n",
              "    </tr>\n",
              "  </tbody>\n",
              "</table>\n",
              "</div>\n",
              "      <button class=\"colab-df-convert\" onclick=\"convertToInteractive('df-a66711c1-b7af-43c4-a9ab-4270ae9b25a2')\"\n",
              "              title=\"Convert this dataframe to an interactive table.\"\n",
              "              style=\"display:none;\">\n",
              "        \n",
              "  <svg xmlns=\"http://www.w3.org/2000/svg\" height=\"24px\"viewBox=\"0 0 24 24\"\n",
              "       width=\"24px\">\n",
              "    <path d=\"M0 0h24v24H0V0z\" fill=\"none\"/>\n",
              "    <path d=\"M18.56 5.44l.94 2.06.94-2.06 2.06-.94-2.06-.94-.94-2.06-.94 2.06-2.06.94zm-11 1L8.5 8.5l.94-2.06 2.06-.94-2.06-.94L8.5 2.5l-.94 2.06-2.06.94zm10 10l.94 2.06.94-2.06 2.06-.94-2.06-.94-.94-2.06-.94 2.06-2.06.94z\"/><path d=\"M17.41 7.96l-1.37-1.37c-.4-.4-.92-.59-1.43-.59-.52 0-1.04.2-1.43.59L10.3 9.45l-7.72 7.72c-.78.78-.78 2.05 0 2.83L4 21.41c.39.39.9.59 1.41.59.51 0 1.02-.2 1.41-.59l7.78-7.78 2.81-2.81c.8-.78.8-2.07 0-2.86zM5.41 20L4 18.59l7.72-7.72 1.47 1.35L5.41 20z\"/>\n",
              "  </svg>\n",
              "      </button>\n",
              "      \n",
              "  <style>\n",
              "    .colab-df-container {\n",
              "      display:flex;\n",
              "      flex-wrap:wrap;\n",
              "      gap: 12px;\n",
              "    }\n",
              "\n",
              "    .colab-df-convert {\n",
              "      background-color: #E8F0FE;\n",
              "      border: none;\n",
              "      border-radius: 50%;\n",
              "      cursor: pointer;\n",
              "      display: none;\n",
              "      fill: #1967D2;\n",
              "      height: 32px;\n",
              "      padding: 0 0 0 0;\n",
              "      width: 32px;\n",
              "    }\n",
              "\n",
              "    .colab-df-convert:hover {\n",
              "      background-color: #E2EBFA;\n",
              "      box-shadow: 0px 1px 2px rgba(60, 64, 67, 0.3), 0px 1px 3px 1px rgba(60, 64, 67, 0.15);\n",
              "      fill: #174EA6;\n",
              "    }\n",
              "\n",
              "    [theme=dark] .colab-df-convert {\n",
              "      background-color: #3B4455;\n",
              "      fill: #D2E3FC;\n",
              "    }\n",
              "\n",
              "    [theme=dark] .colab-df-convert:hover {\n",
              "      background-color: #434B5C;\n",
              "      box-shadow: 0px 1px 3px 1px rgba(0, 0, 0, 0.15);\n",
              "      filter: drop-shadow(0px 1px 2px rgba(0, 0, 0, 0.3));\n",
              "      fill: #FFFFFF;\n",
              "    }\n",
              "  </style>\n",
              "\n",
              "      <script>\n",
              "        const buttonEl =\n",
              "          document.querySelector('#df-a66711c1-b7af-43c4-a9ab-4270ae9b25a2 button.colab-df-convert');\n",
              "        buttonEl.style.display =\n",
              "          google.colab.kernel.accessAllowed ? 'block' : 'none';\n",
              "\n",
              "        async function convertToInteractive(key) {\n",
              "          const element = document.querySelector('#df-a66711c1-b7af-43c4-a9ab-4270ae9b25a2');\n",
              "          const dataTable =\n",
              "            await google.colab.kernel.invokeFunction('convertToInteractive',\n",
              "                                                     [key], {});\n",
              "          if (!dataTable) return;\n",
              "\n",
              "          const docLinkHtml = 'Like what you see? Visit the ' +\n",
              "            '<a target=\"_blank\" href=https://colab.research.google.com/notebooks/data_table.ipynb>data table notebook</a>'\n",
              "            + ' to learn more about interactive tables.';\n",
              "          element.innerHTML = '';\n",
              "          dataTable['output_type'] = 'display_data';\n",
              "          await google.colab.output.renderOutput(dataTable, element);\n",
              "          const docLink = document.createElement('div');\n",
              "          docLink.innerHTML = docLinkHtml;\n",
              "          element.appendChild(docLink);\n",
              "        }\n",
              "      </script>\n",
              "    </div>\n",
              "  </div>\n",
              "  "
            ]
          },
          "metadata": {},
          "execution_count": 5
        }
      ],
      "source": [
        "df = pd.read_csv('sentiment_analysis.csv')\n",
        "df.head()"
      ]
    },
    {
      "cell_type": "markdown",
      "source": [
        "For part 2 you will need to load the text pre-processing code from here \n"
      ],
      "metadata": {
        "id": "TywPA_jSv4Hx"
      }
    },
    {
      "cell_type": "code",
      "source": [
        "# Lower case all the text\n",
        "def lowercase(tweet):\n",
        "    return tweet.lower()\n",
        "\n",
        "#Remove tags\n",
        "def remove_tags(tweet):\n",
        "    return re.sub(\"@[A-Za-z0-9_]+\", '', str(tweet))\n",
        "\n",
        "#Remove mentions\n",
        "def remove_mentions(tweet):\n",
        "    return re.sub(\"#[A-Za-z0-9_]+\", '', str(tweet))\n",
        "\n",
        "# Remove all URLs\n",
        "def remove_url(tweet):\n",
        "    urls = re.compile(r'\\s*(?:https?:\\/\\/)?[\\w.-]+(?:\\.[\\w.-]+)+[\\w\\-._~:/?#[\\]@!\\$&\\'\\(\\)\\*\\+,;=.]+')\n",
        "    return re.sub(urls, ' ', str(tweet))\n",
        "\n",
        "#Token nize the string\n",
        "def tokenize(tweet):\n",
        "    tok_tweet = nltk.tokenize.word_tokenize(tweet)\n",
        "    return ' '.join(tok_tweet)\n",
        "\n",
        "#Remove rt in front of the string if starts with rt is detected\n",
        "def remove_rt (tweet):\n",
        "    x = re.search(\"^rt\",tweet)\n",
        "    if x:\n",
        "        temp = re.sub(\"rt\", '', str(tweet))\n",
        "    else:\n",
        "        temp = tweet\n",
        "    return temp\n",
        "\n",
        "#Remove stopwords\n",
        "def remove_stopwords(tweet):\n",
        "    words = tweet.split()\n",
        "    clean_tweet = [word for word in words if word not in stopwords.words('english')]\n",
        "    return ' '.join(clean_tweet)\n",
        "\n",
        "#remove non alphabatical numbers\n",
        "def remove_nonAlphaNum(tweet):\n",
        "    return re.sub(r'[^\\s\\w]+', '', tweet)"
      ],
      "metadata": {
        "id": "sK5pOD443XST"
      },
      "execution_count": 2,
      "outputs": []
    },
    {
      "cell_type": "code",
      "source": [
        "\n",
        "\n",
        "def clean(tweet):\n",
        "    tweet = lowercase(tweet) \n",
        "    tweet = remove_tags(tweet)\n",
        "    tweet = remove_mentions(tweet)\n",
        "    tweet = remove_url(tweet)\n",
        "    tweet = tokenize(tweet)\n",
        "    tweet = remove_rt(tweet)\n",
        "    tweet = remove_stopwords(tweet)\n",
        "    tweet = remove_nonAlphaNum(tweet)\n",
        "    return tweet\n"
      ],
      "metadata": {
        "id": "Ymygpm453U2n"
      },
      "execution_count": 3,
      "outputs": []
    },
    {
      "cell_type": "markdown",
      "source": [
        "And stop here"
      ],
      "metadata": {
        "id": "GI-VL4ALv-de"
      }
    },
    {
      "cell_type": "code",
      "source": [
        "#Treat the raw string\n",
        "df['Cleaned'] = df['text'].apply(clean)\n",
        "\n",
        "#Delete ID column as it is not relevant\n",
        "df.drop('ID',axis = 1)"
      ],
      "metadata": {
        "colab": {
          "base_uri": "https://localhost:8080/",
          "height": 641
        },
        "id": "TQCuEspx3bXF",
        "outputId": "54ab4dd7-86c8-4889-81e7-593a142da47e"
      },
      "execution_count": null,
      "outputs": [
        {
          "output_type": "execute_result",
          "data": {
            "text/plain": [
              "                                                     text  label  \\\n",
              "0       Josh Jenkins is looking forward to TAB Breeder...      1   \n",
              "1       RT @MianUsmanJaved: Congratulations Pakistan o...      1   \n",
              "2       RT @PEPalerts: This September, @YESmag is taki...      1   \n",
              "3       RT @david_gaibis: Newly painted walls, thanks ...      1   \n",
              "4       RT @CedricFeschotte: Excited to announce: as o...      1   \n",
              "...                                                   ...    ...   \n",
              "550386  @goddesses_o I can't stop watching her...mm. M...      0   \n",
              "550387  Poor old Tom Odell doesn't look like he would ...      0   \n",
              "550388  #antsmasher I smashed  7 ants in this awesome ...      1   \n",
              "550389  @LizHudston @KymWyllie @Evasmiless @meanBok @l...      1   \n",
              "550390  Bixbeat Mixtape Vol.2 is here with great artis...      1   \n",
              "\n",
              "                                                  Cleaned  \n",
              "0       josh jenkins looking forward tab breeders crow...  \n",
              "1          congratulations pakistan becoming world odds    \n",
              "2        september  taking maine mendoza  surprise tha...  \n",
              "3        newly painted walls  thanks million custodial...  \n",
              "4        excited announce  july 2017 feschotte lab rel...  \n",
              "...                                                   ...  \n",
              "550386                             ca nt stop watching     \n",
              "550387  poor old tom odell nt look like would know wro...  \n",
              "550388              smashed 7 ants awesome game    hjfjfi  \n",
              "550389                            morning girls wonderful  \n",
              "550390  bixbeat mixtape vol2 great artiste join moveme...  \n",
              "\n",
              "[550391 rows x 3 columns]"
            ],
            "text/html": [
              "\n",
              "  <div id=\"df-9e8b22c1-d2c3-4f7b-bb55-4974cbea67d2\">\n",
              "    <div class=\"colab-df-container\">\n",
              "      <div>\n",
              "<style scoped>\n",
              "    .dataframe tbody tr th:only-of-type {\n",
              "        vertical-align: middle;\n",
              "    }\n",
              "\n",
              "    .dataframe tbody tr th {\n",
              "        vertical-align: top;\n",
              "    }\n",
              "\n",
              "    .dataframe thead th {\n",
              "        text-align: right;\n",
              "    }\n",
              "</style>\n",
              "<table border=\"1\" class=\"dataframe\">\n",
              "  <thead>\n",
              "    <tr style=\"text-align: right;\">\n",
              "      <th></th>\n",
              "      <th>text</th>\n",
              "      <th>label</th>\n",
              "      <th>Cleaned</th>\n",
              "    </tr>\n",
              "  </thead>\n",
              "  <tbody>\n",
              "    <tr>\n",
              "      <th>0</th>\n",
              "      <td>Josh Jenkins is looking forward to TAB Breeder...</td>\n",
              "      <td>1</td>\n",
              "      <td>josh jenkins looking forward tab breeders crow...</td>\n",
              "    </tr>\n",
              "    <tr>\n",
              "      <th>1</th>\n",
              "      <td>RT @MianUsmanJaved: Congratulations Pakistan o...</td>\n",
              "      <td>1</td>\n",
              "      <td>congratulations pakistan becoming world odds</td>\n",
              "    </tr>\n",
              "    <tr>\n",
              "      <th>2</th>\n",
              "      <td>RT @PEPalerts: This September, @YESmag is taki...</td>\n",
              "      <td>1</td>\n",
              "      <td>september  taking maine mendoza  surprise tha...</td>\n",
              "    </tr>\n",
              "    <tr>\n",
              "      <th>3</th>\n",
              "      <td>RT @david_gaibis: Newly painted walls, thanks ...</td>\n",
              "      <td>1</td>\n",
              "      <td>newly painted walls  thanks million custodial...</td>\n",
              "    </tr>\n",
              "    <tr>\n",
              "      <th>4</th>\n",
              "      <td>RT @CedricFeschotte: Excited to announce: as o...</td>\n",
              "      <td>1</td>\n",
              "      <td>excited announce  july 2017 feschotte lab rel...</td>\n",
              "    </tr>\n",
              "    <tr>\n",
              "      <th>...</th>\n",
              "      <td>...</td>\n",
              "      <td>...</td>\n",
              "      <td>...</td>\n",
              "    </tr>\n",
              "    <tr>\n",
              "      <th>550386</th>\n",
              "      <td>@goddesses_o I can't stop watching her...mm. M...</td>\n",
              "      <td>0</td>\n",
              "      <td>ca nt stop watching</td>\n",
              "    </tr>\n",
              "    <tr>\n",
              "      <th>550387</th>\n",
              "      <td>Poor old Tom Odell doesn't look like he would ...</td>\n",
              "      <td>0</td>\n",
              "      <td>poor old tom odell nt look like would know wro...</td>\n",
              "    </tr>\n",
              "    <tr>\n",
              "      <th>550388</th>\n",
              "      <td>#antsmasher I smashed  7 ants in this awesome ...</td>\n",
              "      <td>1</td>\n",
              "      <td>smashed 7 ants awesome game    hjfjfi</td>\n",
              "    </tr>\n",
              "    <tr>\n",
              "      <th>550389</th>\n",
              "      <td>@LizHudston @KymWyllie @Evasmiless @meanBok @l...</td>\n",
              "      <td>1</td>\n",
              "      <td>morning girls wonderful</td>\n",
              "    </tr>\n",
              "    <tr>\n",
              "      <th>550390</th>\n",
              "      <td>Bixbeat Mixtape Vol.2 is here with great artis...</td>\n",
              "      <td>1</td>\n",
              "      <td>bixbeat mixtape vol2 great artiste join moveme...</td>\n",
              "    </tr>\n",
              "  </tbody>\n",
              "</table>\n",
              "<p>550391 rows × 3 columns</p>\n",
              "</div>\n",
              "      <button class=\"colab-df-convert\" onclick=\"convertToInteractive('df-9e8b22c1-d2c3-4f7b-bb55-4974cbea67d2')\"\n",
              "              title=\"Convert this dataframe to an interactive table.\"\n",
              "              style=\"display:none;\">\n",
              "        \n",
              "  <svg xmlns=\"http://www.w3.org/2000/svg\" height=\"24px\"viewBox=\"0 0 24 24\"\n",
              "       width=\"24px\">\n",
              "    <path d=\"M0 0h24v24H0V0z\" fill=\"none\"/>\n",
              "    <path d=\"M18.56 5.44l.94 2.06.94-2.06 2.06-.94-2.06-.94-.94-2.06-.94 2.06-2.06.94zm-11 1L8.5 8.5l.94-2.06 2.06-.94-2.06-.94L8.5 2.5l-.94 2.06-2.06.94zm10 10l.94 2.06.94-2.06 2.06-.94-2.06-.94-.94-2.06-.94 2.06-2.06.94z\"/><path d=\"M17.41 7.96l-1.37-1.37c-.4-.4-.92-.59-1.43-.59-.52 0-1.04.2-1.43.59L10.3 9.45l-7.72 7.72c-.78.78-.78 2.05 0 2.83L4 21.41c.39.39.9.59 1.41.59.51 0 1.02-.2 1.41-.59l7.78-7.78 2.81-2.81c.8-.78.8-2.07 0-2.86zM5.41 20L4 18.59l7.72-7.72 1.47 1.35L5.41 20z\"/>\n",
              "  </svg>\n",
              "      </button>\n",
              "      \n",
              "  <style>\n",
              "    .colab-df-container {\n",
              "      display:flex;\n",
              "      flex-wrap:wrap;\n",
              "      gap: 12px;\n",
              "    }\n",
              "\n",
              "    .colab-df-convert {\n",
              "      background-color: #E8F0FE;\n",
              "      border: none;\n",
              "      border-radius: 50%;\n",
              "      cursor: pointer;\n",
              "      display: none;\n",
              "      fill: #1967D2;\n",
              "      height: 32px;\n",
              "      padding: 0 0 0 0;\n",
              "      width: 32px;\n",
              "    }\n",
              "\n",
              "    .colab-df-convert:hover {\n",
              "      background-color: #E2EBFA;\n",
              "      box-shadow: 0px 1px 2px rgba(60, 64, 67, 0.3), 0px 1px 3px 1px rgba(60, 64, 67, 0.15);\n",
              "      fill: #174EA6;\n",
              "    }\n",
              "\n",
              "    [theme=dark] .colab-df-convert {\n",
              "      background-color: #3B4455;\n",
              "      fill: #D2E3FC;\n",
              "    }\n",
              "\n",
              "    [theme=dark] .colab-df-convert:hover {\n",
              "      background-color: #434B5C;\n",
              "      box-shadow: 0px 1px 3px 1px rgba(0, 0, 0, 0.15);\n",
              "      filter: drop-shadow(0px 1px 2px rgba(0, 0, 0, 0.3));\n",
              "      fill: #FFFFFF;\n",
              "    }\n",
              "  </style>\n",
              "\n",
              "      <script>\n",
              "        const buttonEl =\n",
              "          document.querySelector('#df-9e8b22c1-d2c3-4f7b-bb55-4974cbea67d2 button.colab-df-convert');\n",
              "        buttonEl.style.display =\n",
              "          google.colab.kernel.accessAllowed ? 'block' : 'none';\n",
              "\n",
              "        async function convertToInteractive(key) {\n",
              "          const element = document.querySelector('#df-9e8b22c1-d2c3-4f7b-bb55-4974cbea67d2');\n",
              "          const dataTable =\n",
              "            await google.colab.kernel.invokeFunction('convertToInteractive',\n",
              "                                                     [key], {});\n",
              "          if (!dataTable) return;\n",
              "\n",
              "          const docLinkHtml = 'Like what you see? Visit the ' +\n",
              "            '<a target=\"_blank\" href=https://colab.research.google.com/notebooks/data_table.ipynb>data table notebook</a>'\n",
              "            + ' to learn more about interactive tables.';\n",
              "          element.innerHTML = '';\n",
              "          dataTable['output_type'] = 'display_data';\n",
              "          await google.colab.output.renderOutput(dataTable, element);\n",
              "          const docLink = document.createElement('div');\n",
              "          docLink.innerHTML = docLinkHtml;\n",
              "          element.appendChild(docLink);\n",
              "        }\n",
              "      </script>\n",
              "    </div>\n",
              "  </div>\n",
              "  "
            ]
          },
          "metadata": {},
          "execution_count": 10
        }
      ]
    },
    {
      "cell_type": "markdown",
      "source": [
        "The cleaned csv file can be found here:https://utoronto-my.sharepoint.com/:x:/g/personal/yew_wang_mail_utoronto_ca/EdUeyO2A3alKlxrj8RxRMvMBqZKkc1bv6cghXCc68Jtwdg?e=uYOgCA"
      ],
      "metadata": {
        "id": "kYvcY0tu3JLZ"
      }
    },
    {
      "cell_type": "code",
      "source": [
        "#Save cleaned dataset to csv and load in later step to save processing time\n",
        "#df.to_csv('/cleaned_sentiment_analysis.csv', index=False)\n",
        "cleaned_df = pd.read_csv('cleaned_sentiment_analysis.csv')"
      ],
      "metadata": {
        "id": "alZS1mjX7P5v"
      },
      "execution_count": 4,
      "outputs": []
    },
    {
      "cell_type": "code",
      "source": [
        "cleaned_df.dropna(inplace=True)"
      ],
      "metadata": {
        "id": "AMuj5Id2X5Bv"
      },
      "execution_count": 8,
      "outputs": []
    },
    {
      "cell_type": "code",
      "source": [
        "#Split the dataset into train-test and apply the TFIDF vectorization on training dataset\n",
        "X_train, X_test, y_train, y_test = train_test_split(cleaned_df['Cleaned'], cleaned_df['label'], test_size=0.3, random_state=42)\n",
        "# apply tf-idf and get the top 200 features\n",
        "tfidf = TfidfVectorizer(lowercase=True, max_features = 200)\n",
        "X_train_idf = tfidf.fit_transform(X_train) # only fit the training data    \n",
        "X_test_idf = tfidf.transform(X_test)"
      ],
      "metadata": {
        "id": "WmqTxfzcXjcE"
      },
      "execution_count": 9,
      "outputs": []
    },
    {
      "cell_type": "code",
      "source": [
        "X_train_idf = pd.DataFrame(X_train_idf.todense(), columns = tfidf.get_feature_names_out())\n",
        "X_test_idf = pd.DataFrame(X_test_idf.todense(), columns = tfidf.get_feature_names_out())\n",
        "X_train_idf.head(5)"
      ],
      "metadata": {
        "id": "pxRxImXVX-Kq",
        "colab": {
          "base_uri": "https://localhost:8080/",
          "height": 236
        },
        "outputId": "7f8ae9d8-8e19-4f9f-c683-d13ba71f4507"
      },
      "execution_count": 10,
      "outputs": [
        {
          "output_type": "execute_result",
          "data": {
            "text/plain": [
              "    10  2016  also  always  amazing  amp  another  ass  awesome  baby  ...  \\\n",
              "0  0.0   0.0   0.0     0.0      0.0  0.0      0.0  0.0      0.0   0.0  ...   \n",
              "1  0.0   0.0   0.0     0.0      0.0  0.0      0.0  0.0      0.0   0.0  ...   \n",
              "2  0.0   0.0   0.0     0.0      0.0  0.0      0.0  0.0      0.0   0.0  ...   \n",
              "3  0.0   0.0   0.0     0.0      0.0  0.0      0.0  0.0      0.0   0.0  ...   \n",
              "4  0.0   0.0   0.0     0.0      0.0  0.0      0.0  0.0      0.0   0.0  ...   \n",
              "\n",
              "   winter  wish  wonderful  work  world  would  wow  yall  year  years  \n",
              "0     0.0   0.0        0.0   0.0    0.0    0.0  0.0   0.0   0.0    0.0  \n",
              "1     0.0   0.0        0.0   0.0    0.0    0.0  0.0   0.0   0.0    0.0  \n",
              "2     0.0   0.0        0.0   0.0    0.0    0.0  0.0   0.0   0.0    0.0  \n",
              "3     0.0   0.0        0.0   0.0    0.0    0.0  0.0   0.0   0.0    0.0  \n",
              "4     0.0   0.0        0.0   0.0    0.0    0.0  0.0   0.0   0.0    0.0  \n",
              "\n",
              "[5 rows x 200 columns]"
            ],
            "text/html": [
              "\n",
              "  <div id=\"df-59583ba1-6884-4769-8afa-94935915fe46\">\n",
              "    <div class=\"colab-df-container\">\n",
              "      <div>\n",
              "<style scoped>\n",
              "    .dataframe tbody tr th:only-of-type {\n",
              "        vertical-align: middle;\n",
              "    }\n",
              "\n",
              "    .dataframe tbody tr th {\n",
              "        vertical-align: top;\n",
              "    }\n",
              "\n",
              "    .dataframe thead th {\n",
              "        text-align: right;\n",
              "    }\n",
              "</style>\n",
              "<table border=\"1\" class=\"dataframe\">\n",
              "  <thead>\n",
              "    <tr style=\"text-align: right;\">\n",
              "      <th></th>\n",
              "      <th>10</th>\n",
              "      <th>2016</th>\n",
              "      <th>also</th>\n",
              "      <th>always</th>\n",
              "      <th>amazing</th>\n",
              "      <th>amp</th>\n",
              "      <th>another</th>\n",
              "      <th>ass</th>\n",
              "      <th>awesome</th>\n",
              "      <th>baby</th>\n",
              "      <th>...</th>\n",
              "      <th>winter</th>\n",
              "      <th>wish</th>\n",
              "      <th>wonderful</th>\n",
              "      <th>work</th>\n",
              "      <th>world</th>\n",
              "      <th>would</th>\n",
              "      <th>wow</th>\n",
              "      <th>yall</th>\n",
              "      <th>year</th>\n",
              "      <th>years</th>\n",
              "    </tr>\n",
              "  </thead>\n",
              "  <tbody>\n",
              "    <tr>\n",
              "      <th>0</th>\n",
              "      <td>0.0</td>\n",
              "      <td>0.0</td>\n",
              "      <td>0.0</td>\n",
              "      <td>0.0</td>\n",
              "      <td>0.0</td>\n",
              "      <td>0.0</td>\n",
              "      <td>0.0</td>\n",
              "      <td>0.0</td>\n",
              "      <td>0.0</td>\n",
              "      <td>0.0</td>\n",
              "      <td>...</td>\n",
              "      <td>0.0</td>\n",
              "      <td>0.0</td>\n",
              "      <td>0.0</td>\n",
              "      <td>0.0</td>\n",
              "      <td>0.0</td>\n",
              "      <td>0.0</td>\n",
              "      <td>0.0</td>\n",
              "      <td>0.0</td>\n",
              "      <td>0.0</td>\n",
              "      <td>0.0</td>\n",
              "    </tr>\n",
              "    <tr>\n",
              "      <th>1</th>\n",
              "      <td>0.0</td>\n",
              "      <td>0.0</td>\n",
              "      <td>0.0</td>\n",
              "      <td>0.0</td>\n",
              "      <td>0.0</td>\n",
              "      <td>0.0</td>\n",
              "      <td>0.0</td>\n",
              "      <td>0.0</td>\n",
              "      <td>0.0</td>\n",
              "      <td>0.0</td>\n",
              "      <td>...</td>\n",
              "      <td>0.0</td>\n",
              "      <td>0.0</td>\n",
              "      <td>0.0</td>\n",
              "      <td>0.0</td>\n",
              "      <td>0.0</td>\n",
              "      <td>0.0</td>\n",
              "      <td>0.0</td>\n",
              "      <td>0.0</td>\n",
              "      <td>0.0</td>\n",
              "      <td>0.0</td>\n",
              "    </tr>\n",
              "    <tr>\n",
              "      <th>2</th>\n",
              "      <td>0.0</td>\n",
              "      <td>0.0</td>\n",
              "      <td>0.0</td>\n",
              "      <td>0.0</td>\n",
              "      <td>0.0</td>\n",
              "      <td>0.0</td>\n",
              "      <td>0.0</td>\n",
              "      <td>0.0</td>\n",
              "      <td>0.0</td>\n",
              "      <td>0.0</td>\n",
              "      <td>...</td>\n",
              "      <td>0.0</td>\n",
              "      <td>0.0</td>\n",
              "      <td>0.0</td>\n",
              "      <td>0.0</td>\n",
              "      <td>0.0</td>\n",
              "      <td>0.0</td>\n",
              "      <td>0.0</td>\n",
              "      <td>0.0</td>\n",
              "      <td>0.0</td>\n",
              "      <td>0.0</td>\n",
              "    </tr>\n",
              "    <tr>\n",
              "      <th>3</th>\n",
              "      <td>0.0</td>\n",
              "      <td>0.0</td>\n",
              "      <td>0.0</td>\n",
              "      <td>0.0</td>\n",
              "      <td>0.0</td>\n",
              "      <td>0.0</td>\n",
              "      <td>0.0</td>\n",
              "      <td>0.0</td>\n",
              "      <td>0.0</td>\n",
              "      <td>0.0</td>\n",
              "      <td>...</td>\n",
              "      <td>0.0</td>\n",
              "      <td>0.0</td>\n",
              "      <td>0.0</td>\n",
              "      <td>0.0</td>\n",
              "      <td>0.0</td>\n",
              "      <td>0.0</td>\n",
              "      <td>0.0</td>\n",
              "      <td>0.0</td>\n",
              "      <td>0.0</td>\n",
              "      <td>0.0</td>\n",
              "    </tr>\n",
              "    <tr>\n",
              "      <th>4</th>\n",
              "      <td>0.0</td>\n",
              "      <td>0.0</td>\n",
              "      <td>0.0</td>\n",
              "      <td>0.0</td>\n",
              "      <td>0.0</td>\n",
              "      <td>0.0</td>\n",
              "      <td>0.0</td>\n",
              "      <td>0.0</td>\n",
              "      <td>0.0</td>\n",
              "      <td>0.0</td>\n",
              "      <td>...</td>\n",
              "      <td>0.0</td>\n",
              "      <td>0.0</td>\n",
              "      <td>0.0</td>\n",
              "      <td>0.0</td>\n",
              "      <td>0.0</td>\n",
              "      <td>0.0</td>\n",
              "      <td>0.0</td>\n",
              "      <td>0.0</td>\n",
              "      <td>0.0</td>\n",
              "      <td>0.0</td>\n",
              "    </tr>\n",
              "  </tbody>\n",
              "</table>\n",
              "<p>5 rows × 200 columns</p>\n",
              "</div>\n",
              "      <button class=\"colab-df-convert\" onclick=\"convertToInteractive('df-59583ba1-6884-4769-8afa-94935915fe46')\"\n",
              "              title=\"Convert this dataframe to an interactive table.\"\n",
              "              style=\"display:none;\">\n",
              "        \n",
              "  <svg xmlns=\"http://www.w3.org/2000/svg\" height=\"24px\"viewBox=\"0 0 24 24\"\n",
              "       width=\"24px\">\n",
              "    <path d=\"M0 0h24v24H0V0z\" fill=\"none\"/>\n",
              "    <path d=\"M18.56 5.44l.94 2.06.94-2.06 2.06-.94-2.06-.94-.94-2.06-.94 2.06-2.06.94zm-11 1L8.5 8.5l.94-2.06 2.06-.94-2.06-.94L8.5 2.5l-.94 2.06-2.06.94zm10 10l.94 2.06.94-2.06 2.06-.94-2.06-.94-.94-2.06-.94 2.06-2.06.94z\"/><path d=\"M17.41 7.96l-1.37-1.37c-.4-.4-.92-.59-1.43-.59-.52 0-1.04.2-1.43.59L10.3 9.45l-7.72 7.72c-.78.78-.78 2.05 0 2.83L4 21.41c.39.39.9.59 1.41.59.51 0 1.02-.2 1.41-.59l7.78-7.78 2.81-2.81c.8-.78.8-2.07 0-2.86zM5.41 20L4 18.59l7.72-7.72 1.47 1.35L5.41 20z\"/>\n",
              "  </svg>\n",
              "      </button>\n",
              "      \n",
              "  <style>\n",
              "    .colab-df-container {\n",
              "      display:flex;\n",
              "      flex-wrap:wrap;\n",
              "      gap: 12px;\n",
              "    }\n",
              "\n",
              "    .colab-df-convert {\n",
              "      background-color: #E8F0FE;\n",
              "      border: none;\n",
              "      border-radius: 50%;\n",
              "      cursor: pointer;\n",
              "      display: none;\n",
              "      fill: #1967D2;\n",
              "      height: 32px;\n",
              "      padding: 0 0 0 0;\n",
              "      width: 32px;\n",
              "    }\n",
              "\n",
              "    .colab-df-convert:hover {\n",
              "      background-color: #E2EBFA;\n",
              "      box-shadow: 0px 1px 2px rgba(60, 64, 67, 0.3), 0px 1px 3px 1px rgba(60, 64, 67, 0.15);\n",
              "      fill: #174EA6;\n",
              "    }\n",
              "\n",
              "    [theme=dark] .colab-df-convert {\n",
              "      background-color: #3B4455;\n",
              "      fill: #D2E3FC;\n",
              "    }\n",
              "\n",
              "    [theme=dark] .colab-df-convert:hover {\n",
              "      background-color: #434B5C;\n",
              "      box-shadow: 0px 1px 3px 1px rgba(0, 0, 0, 0.15);\n",
              "      filter: drop-shadow(0px 1px 2px rgba(0, 0, 0, 0.3));\n",
              "      fill: #FFFFFF;\n",
              "    }\n",
              "  </style>\n",
              "\n",
              "      <script>\n",
              "        const buttonEl =\n",
              "          document.querySelector('#df-59583ba1-6884-4769-8afa-94935915fe46 button.colab-df-convert');\n",
              "        buttonEl.style.display =\n",
              "          google.colab.kernel.accessAllowed ? 'block' : 'none';\n",
              "\n",
              "        async function convertToInteractive(key) {\n",
              "          const element = document.querySelector('#df-59583ba1-6884-4769-8afa-94935915fe46');\n",
              "          const dataTable =\n",
              "            await google.colab.kernel.invokeFunction('convertToInteractive',\n",
              "                                                     [key], {});\n",
              "          if (!dataTable) return;\n",
              "\n",
              "          const docLinkHtml = 'Like what you see? Visit the ' +\n",
              "            '<a target=\"_blank\" href=https://colab.research.google.com/notebooks/data_table.ipynb>data table notebook</a>'\n",
              "            + ' to learn more about interactive tables.';\n",
              "          element.innerHTML = '';\n",
              "          dataTable['output_type'] = 'display_data';\n",
              "          await google.colab.output.renderOutput(dataTable, element);\n",
              "          const docLink = document.createElement('div');\n",
              "          docLink.innerHTML = docLinkHtml;\n",
              "          element.appendChild(docLink);\n",
              "        }\n",
              "      </script>\n",
              "    </div>\n",
              "  </div>\n",
              "  "
            ]
          },
          "metadata": {},
          "execution_count": 10
        }
      ]
    },
    {
      "cell_type": "code",
      "source": [
        "def plot_roc_curve(y_true, y_score):\n",
        "    # Compute false positive rate, true positive rate, and thresholds\n",
        "    fpr, tpr, thresholds = roc_curve(y_true, y_score)\n",
        "    \n",
        "    # Compute area under the ROC curve\n",
        "    roc_auc = auc(fpr, tpr)\n",
        "    plt.figure(figsize=(8, 8))\n",
        "    # Plot ROC curve\n",
        "    plt.plot(fpr, tpr, color='darkorange', lw=2, label='ROC curve (AUC = %0.2f)' % roc_auc)\n",
        "    plt.plot([0, 1], [0, 1], color='navy', lw=2, linestyle='--')\n",
        "    plt.xlim([0.0, 1.0])\n",
        "    plt.ylim([0.0, 1.05])\n",
        "    plt.xlabel('False Positive Rate')\n",
        "    plt.ylabel('True Positive Rate')\n",
        "    plt.title('Receiver operating characteristic curve')\n",
        "    plt.legend(loc=\"lower right\")\n",
        "    plt.show()"
      ],
      "metadata": {
        "id": "AT4R4Nv1KmT4"
      },
      "execution_count": 30,
      "outputs": []
    },
    {
      "cell_type": "markdown",
      "source": [
        "## Logistic Regression"
      ],
      "metadata": {
        "id": "6EPijs8-kBJQ"
      }
    },
    {
      "cell_type": "code",
      "source": [
        "clf = LogisticRegression().fit(X_train_idf, y_train)\n",
        "# predict on train and test set\n",
        "y_train_predict = clf.predict(X_train_idf)\n",
        "y_test_predict = clf.predict(X_test_idf)\n",
        "# calculate train and test accuracy\n",
        "train_accuracy = accuracy_score(y_train, y_train_predict)\n",
        "test_accuracy = accuracy_score(y_test, y_test_predict)"
      ],
      "metadata": {
        "id": "d3YXcOljBtor",
        "colab": {
          "base_uri": "https://localhost:8080/"
        },
        "outputId": "7f4880df-6f71-4cd8-d418-bc7039c0cb2f"
      },
      "execution_count": null,
      "outputs": [
        {
          "output_type": "stream",
          "name": "stderr",
          "text": [
            "/usr/local/lib/python3.9/dist-packages/sklearn/linear_model/_logistic.py:458: ConvergenceWarning: lbfgs failed to converge (status=1):\n",
            "STOP: TOTAL NO. of ITERATIONS REACHED LIMIT.\n",
            "\n",
            "Increase the number of iterations (max_iter) or scale the data as shown in:\n",
            "    https://scikit-learn.org/stable/modules/preprocessing.html\n",
            "Please also refer to the documentation for alternative solver options:\n",
            "    https://scikit-learn.org/stable/modules/linear_model.html#logistic-regression\n",
            "  n_iter_i = _check_optimize_result(\n"
          ]
        }
      ]
    },
    {
      "cell_type": "code",
      "source": [
        "print(train_accuracy, test_accuracy)"
      ],
      "metadata": {
        "colab": {
          "base_uri": "https://localhost:8080/"
        },
        "id": "XOCe1pNWmBy7",
        "outputId": "b1ea9aa6-088d-4acd-dcbf-529db3791446"
      },
      "execution_count": null,
      "outputs": [
        {
          "output_type": "stream",
          "name": "stdout",
          "text": [
            "0.8796230205594474 0.8797526617328214\n"
          ]
        }
      ]
    },
    {
      "cell_type": "markdown",
      "source": [
        "With gridsearchCV and Cross-Validation"
      ],
      "metadata": {
        "id": "qwV4G9hA77at"
      }
    },
    {
      "cell_type": "code",
      "source": [
        "#All the gridsearch cells should only be run once\n",
        "'''\n",
        "parameters = {'C':[0.01, 0.1, 1, 10, 100], \n",
        "              'solver':('liblinear','lbfgs', 'newton-cg'),\n",
        "              'penalty':('none',  'l2')}\n",
        "\n",
        "model = LogisticRegression()\n",
        "cv = GridSearchCV(model, parameters, cv=5, n_jobs=-1)\n",
        "cv.fit(X_train_idf, y_train)\n",
        "\n",
        "print('Best cross-validation score is :\\n',cv.best_score_)\n",
        "print('Best parameter:\\n', cv.best_params_)\n",
        "'''"
      ],
      "metadata": {
        "id": "BEKhII6P3tMN",
        "colab": {
          "base_uri": "https://localhost:8080/"
        },
        "outputId": "08877828-dbaa-4c94-f196-61dd13dc84ba"
      },
      "execution_count": null,
      "outputs": [
        {
          "output_type": "stream",
          "name": "stderr",
          "text": [
            "/usr/local/lib/python3.9/dist-packages/sklearn/model_selection/_validation.py:378: FitFailedWarning: \n",
            "25 fits failed out of a total of 150.\n",
            "The score on these train-test partitions for these parameters will be set to nan.\n",
            "If these failures are not expected, you can try to debug them by setting error_score='raise'.\n",
            "\n",
            "Below are more details about the failures:\n",
            "--------------------------------------------------------------------------------\n",
            "25 fits failed with the following error:\n",
            "Traceback (most recent call last):\n",
            "  File \"/usr/local/lib/python3.9/dist-packages/sklearn/model_selection/_validation.py\", line 686, in _fit_and_score\n",
            "    estimator.fit(X_train, y_train, **fit_params)\n",
            "  File \"/usr/local/lib/python3.9/dist-packages/sklearn/linear_model/_logistic.py\", line 1162, in fit\n",
            "    solver = _check_solver(self.solver, self.penalty, self.dual)\n",
            "  File \"/usr/local/lib/python3.9/dist-packages/sklearn/linear_model/_logistic.py\", line 71, in _check_solver\n",
            "    raise ValueError(\"penalty='none' is not supported for the liblinear solver\")\n",
            "ValueError: penalty='none' is not supported for the liblinear solver\n",
            "\n",
            "  warnings.warn(some_fits_failed_message, FitFailedWarning)\n",
            "/usr/local/lib/python3.9/dist-packages/sklearn/model_selection/_search.py:952: UserWarning: One or more of the test scores are non-finite: [       nan 0.87918436 0.87914803 0.87149372 0.87151708 0.87151967\n",
            "        nan 0.87918436 0.87914803 0.87848875 0.87849394 0.87849394\n",
            "        nan 0.87918436 0.87914803 0.87911428 0.87912467 0.87911428\n",
            "        nan 0.87918436 0.87914803 0.87923368 0.87922589 0.87923627\n",
            "        nan 0.87918436 0.87914803 0.87916619 0.87918177 0.87916619]\n",
            "  warnings.warn(\n"
          ]
        },
        {
          "output_type": "stream",
          "name": "stdout",
          "text": [
            "Best cross-validation score is :\n",
            " 0.8792362747199425\n",
            "Best parameter:\n",
            " {'C': 10, 'penalty': 'l2', 'solver': 'newton-cg'}\n"
          ]
        }
      ]
    },
    {
      "cell_type": "code",
      "source": [
        "# {'C': 10, 'penalty': 'l2', 'solver': 'newton-cg'} was determined to be the best hyperparameter set\n",
        "bestLOGmodel = LogisticRegression(C = 10, penalty= 'l2', solver = 'newton-cg')\n",
        "bestLOGmodel.fit(X_train_idf, y_train)\n",
        "y_pred_LOG = bestLOGmodel.predict(X_test_idf)\n",
        "LOG_f1 = f1_score(y_test, y_pred_LOG)\n",
        "LOG_acc = accuracy_score(y_test, y_pred_LOG)\n",
        "print(\"F1 Score Logistic Regression:\",LOG_f1)\n",
        "print(\"Accuracy Score Logistic Regression:\",LOG_acc)"
      ],
      "metadata": {
        "colab": {
          "base_uri": "https://localhost:8080/"
        },
        "id": "wB_7pQH44r1N",
        "outputId": "3a9b59ca-dc08-4a82-d14d-3d06bcb596e4"
      },
      "execution_count": 11,
      "outputs": [
        {
          "output_type": "stream",
          "name": "stdout",
          "text": [
            "F1 Score Logistic Regression: 0.9069272400951642\n",
            "Accuracy Score Logistic Regression: 0.8783903337615435\n"
          ]
        }
      ]
    },
    {
      "cell_type": "code",
      "source": [
        "y_test_prob_LOG = bestLOGmodel.predict_proba(X_test_idf)\n",
        "plot_roc_curve(y_test, y_test_prob_LOG[:, 1])"
      ],
      "metadata": {
        "colab": {
          "base_uri": "https://localhost:8080/",
          "height": 513
        },
        "id": "gUsrGjKUu8a_",
        "outputId": "08ec3180-ef18-48c3-c38c-7d33fc8ecfa1"
      },
      "execution_count": 38,
      "outputs": [
        {
          "output_type": "display_data",
          "data": {
            "text/plain": [
              "<Figure size 576x576 with 1 Axes>"
            ],
            "image/png": "[encoded data removed]"
          },
          "metadata": {
            "needs_background": "light"
          }
        }
      ]
    },
    {
      "cell_type": "markdown",
      "source": [
        "## Naive Bayes"
      ],
      "metadata": {
        "id": "K0j2sXYTuxCH"
      }
    },
    {
      "cell_type": "code",
      "source": [
        "clf = BernoulliNB().fit(X_train_idf, y_train)\n",
        "# predict on train and test set\n",
        "y_train_predict = clf.predict(X_train_idf)\n",
        "y_test_predict = clf.predict(X_test_idf)\n",
        "# calculate train and test accuracy\n",
        "train_accuracy = accuracy_score(y_train, y_train_predict)\n",
        "test_accuracy = accuracy_score(y_test, y_test_predict)\n",
        "test_f1 = f1_score(y_test, y_test_predict)\n",
        "print(\"F1 Score NB:\",test_f1)\n",
        "print(\"Accuracy Score NB:\",test_accuracy)"
      ],
      "metadata": {
        "id": "ttpMRkjjuwhw",
        "colab": {
          "base_uri": "https://localhost:8080/"
        },
        "outputId": "4b2b9f3f-21fa-460c-f201-381eb4cff7a1"
      },
      "execution_count": 36,
      "outputs": [
        {
          "output_type": "stream",
          "name": "stdout",
          "text": [
            "F1 Score NB: 0.9010747749402903\n",
            "Accuracy Score NB: 0.8694888140194391\n"
          ]
        }
      ]
    },
    {
      "cell_type": "code",
      "source": [
        "y_test_prob_NB = clf.predict_proba(X_test_idf)\n",
        "plot_roc_curve(y_test, y_test_prob_NB[:, 1])"
      ],
      "metadata": {
        "colab": {
          "base_uri": "https://localhost:8080/",
          "height": 513
        },
        "id": "7NmgQl19tqzI",
        "outputId": "e5b80d30-f763-4d5b-fed4-c3dcd770c15d"
      },
      "execution_count": 37,
      "outputs": [
        {
          "output_type": "display_data",
          "data": {
            "text/plain": [
              "<Figure size 576x576 with 1 Axes>"
            ],
            "image/png": "[encoded data removed]"
          },
          "metadata": {
            "needs_background": "light"
          }
        }
      ]
    },
    {
      "cell_type": "markdown",
      "source": [
        "### SVM"
      ],
      "metadata": {
        "id": "sWzEfQW_DJpw"
      }
    },
    {
      "cell_type": "markdown",
      "source": [
        "With gridsearchCV and Cross-Validation"
      ],
      "metadata": {
        "id": "tqLBsniJC6ya"
      }
    },
    {
      "cell_type": "code",
      "source": [
        "#All the gridsearch cells should only be run once\n",
        "'''\n",
        "parameters = {'C':[0.001, 0.01, 0.1, 1, 10]}\n",
        "model = LinearSVC(random_state=0, tol=1e-5)\n",
        "cv = GridSearchCV(model, parameters, cv=5, n_jobs=-1)\n",
        "cv.fit(X_train_idf, y_train)\n",
        "\n",
        "print('The best cross-validation score: ',cv.best_score_)\n",
        "print('The best parameter:', cv.best_params_)\n",
        "'''"
      ],
      "metadata": {
        "colab": {
          "base_uri": "https://localhost:8080/"
        },
        "id": "Ogbf9jvTC7jd",
        "outputId": "21c635c7-c4fc-4d11-b318-788c7c738e89"
      },
      "execution_count": null,
      "outputs": [
        {
          "output_type": "stream",
          "name": "stdout",
          "text": [
            "The best cross-validation score:  0.8794179655833195\n",
            "The best parameter: {'C': 1}\n"
          ]
        }
      ]
    },
    {
      "cell_type": "code",
      "source": [
        "#C = 1 was the best hyper parameter\n",
        "bestSVMmodel = LinearSVC(random_state=0, tol=1e-5, C = 1)\n",
        "bestSVMmodel.fit(X_train_idf, y_train)\n",
        "y_pred_SVM = bestSVMmodel.predict(X_test_idf)\n",
        "SVM_f1 = f1_score(y_test, y_pred_SVM)\n",
        "SVM_acc = accuracy_score(y_test, y_pred_SVM)\n",
        "print(\"F1 Score SVM:\",SVM_f1)\n",
        "print(\"Accuracy Score SVM:\",SVM_acc)\n"
      ],
      "metadata": {
        "colab": {
          "base_uri": "https://localhost:8080/"
        },
        "id": "dNzTZcg03ln3",
        "outputId": "8d6209d1-abb6-4d0c-fdc0-e56c452a548a"
      },
      "execution_count": 33,
      "outputs": [
        {
          "output_type": "stream",
          "name": "stdout",
          "text": [
            "F1 Score SVM: 0.9070927018749532\n",
            "Accuracy Score SVM: 0.8794144024044405\n"
          ]
        }
      ]
    },
    {
      "cell_type": "code",
      "source": [
        "y_test_prob_SVM = bestSVMmodel._predict_proba_lr(X_test_idf)\n",
        "plot_roc_curve(y_test, y_test_prob_SVM[:, 1])"
      ],
      "metadata": {
        "colab": {
          "base_uri": "https://localhost:8080/",
          "height": 513
        },
        "id": "piX4oN-CtBI_",
        "outputId": "5ea7ab1f-cb41-4d0f-d988-b8f9096532c3"
      },
      "execution_count": 35,
      "outputs": [
        {
          "output_type": "display_data",
          "data": {
            "text/plain": [
              "<Figure size 576x576 with 1 Axes>"
            ],
            "image/png": "[encoded data removed]"
          },
          "metadata": {
            "needs_background": "light"
          }
        }
      ]
    },
    {
      "cell_type": "markdown",
      "source": [
        "### Random Forest"
      ],
      "metadata": {
        "id": "WTT9qxBgQOIP"
      }
    },
    {
      "cell_type": "code",
      "source": [
        "'''\n",
        "parameters = {'min_samples_split':[ 10, 15, 20],\n",
        "              'n_estimators':[50, 100, 200]}\n",
        "\n",
        "model = RandomForestClassifier( random_state=0)\n",
        "cv = GridSearchCV(model, parameters, cv=5, n_jobs=-1)\n",
        "cv.fit(X_train_idf, y_train)\n",
        "\n",
        "print('The best cross-validation score: ',cv.best_score_)\n",
        "print('The best parameter:', cv.best_params_)\n",
        "'''"
      ],
      "metadata": {
        "id": "4vKNYcyBPs0b",
        "colab": {
          "base_uri": "https://localhost:8080/"
        },
        "outputId": "6ff0d2a8-712d-477a-d433-7ac5aa5ff3ba"
      },
      "execution_count": 20,
      "outputs": [
        {
          "output_type": "stream",
          "name": "stdout",
          "text": [
            "The best cross-validation score:  0.8859283497591315\n",
            "The best parameter: {'min_samples_split': 20, 'n_estimators': 200}\n"
          ]
        }
      ]
    },
    {
      "cell_type": "markdown",
      "source": [
        "Get accuracy and f1 socre on test set"
      ],
      "metadata": {
        "id": "xGljqHwO10UM"
      }
    },
    {
      "cell_type": "code",
      "source": [
        "#Using min sample split = 20 and n estimators = 200\n",
        "bestRFmodel = RandomForestClassifier(min_samples_split = 20, n_estimators= 200, random_state=0)\n",
        "bestRFmodel.fit(X_train_idf, y_train)\n",
        "y_pred_RF = bestRFmodel.predict(X_test_idf)\n",
        "RF_f1 = f1_score(y_test, y_pred_RF)\n",
        "RF_acc = accuracy_score(y_test, y_pred_RF)\n",
        "print(\"F1 Score Random Forest:\",RF_f1)\n",
        "print(\"Accuracy Score Random Forest:\",RF_acc)\n"
      ],
      "metadata": {
        "colab": {
          "base_uri": "https://localhost:8080/"
        },
        "id": "8yYBaQfX1hgE",
        "outputId": "ae8b41ff-51a0-428b-cc4e-07feafc8a6ff"
      },
      "execution_count": 22,
      "outputs": [
        {
          "output_type": "stream",
          "name": "stdout",
          "text": [
            "F1 Score Random Forest: 0.9131398348092483\n",
            "Accuracy Score Random Forest: 0.8869525171486051\n"
          ]
        }
      ]
    },
    {
      "cell_type": "code",
      "source": [
        "y_test_prob_RF = bestRFmodel.predict_proba(X_test_idf)\n",
        "plot_roc_curve(y_test, y_test_prob_RF[:, 1])"
      ],
      "metadata": {
        "colab": {
          "base_uri": "https://localhost:8080/",
          "height": 513
        },
        "id": "9igJqIN2m68w",
        "outputId": "30dc0344-38e4-440b-cd3c-f751f159c29c"
      },
      "execution_count": 31,
      "outputs": [
        {
          "output_type": "display_data",
          "data": {
            "text/plain": [
              "<Figure size 576x576 with 1 Axes>"
            ],
            "image/png": "[encoded data removed]"
          },
          "metadata": {
            "needs_background": "light"
          }
        }
      ]
    },
    {
      "cell_type": "markdown",
      "source": [
        "Result Summary for part1"
      ],
      "metadata": {
        "id": "xXlJ2ks66GIU"
      }
    },
    {
      "cell_type": "code",
      "source": [
        "model_list = ['Logistic Regression', 'Naive Bayes', 'SVM', 'Random Forest']\n",
        "f1_list = [LOG_f1, test_f1, SVM_f1, RF_f1]\n",
        "acc_list = [LOG_acc, test_accuracy,SVM_acc, RF_acc]\n"
      ],
      "metadata": {
        "id": "vgLDdNcx6EIH"
      },
      "execution_count": 39,
      "outputs": []
    },
    {
      "cell_type": "code",
      "source": [
        "result_df = pd.DataFrame({\n",
        "    'Model': model_list,\n",
        "    'F1 Score': f1_list,\n",
        "    'Accuracy': acc_list\n",
        "})\n",
        "result_df"
      ],
      "metadata": {
        "colab": {
          "base_uri": "https://localhost:8080/",
          "height": 175
        },
        "id": "rRYHbvem79zQ",
        "outputId": "b34e97a1-5ab3-4ebf-f7e3-45c90ebe90f4"
      },
      "execution_count": 40,
      "outputs": [
        {
          "output_type": "execute_result",
          "data": {
            "text/plain": [
              "                 Model  F1 Score  Accuracy\n",
              "0  Logistic Regression  0.906927  0.878390\n",
              "1          Naive Bayes  0.901075  0.869489\n",
              "2                  SVM  0.907093  0.879414\n",
              "3        Random Forest  0.913140  0.886953"
            ],
            "text/html": [
              "\n",
              "  <div id=\"df-1c46963c-756c-44a1-ac82-68b2e8a2b8e3\">\n",
              "    <div class=\"colab-df-container\">\n",
              "      <div>\n",
              "<style scoped>\n",
              "    .dataframe tbody tr th:only-of-type {\n",
              "        vertical-align: middle;\n",
              "    }\n",
              "\n",
              "    .dataframe tbody tr th {\n",
              "        vertical-align: top;\n",
              "    }\n",
              "\n",
              "    .dataframe thead th {\n",
              "        text-align: right;\n",
              "    }\n",
              "</style>\n",
              "<table border=\"1\" class=\"dataframe\">\n",
              "  <thead>\n",
              "    <tr style=\"text-align: right;\">\n",
              "      <th></th>\n",
              "      <th>Model</th>\n",
              "      <th>F1 Score</th>\n",
              "      <th>Accuracy</th>\n",
              "    </tr>\n",
              "  </thead>\n",
              "  <tbody>\n",
              "    <tr>\n",
              "      <th>0</th>\n",
              "      <td>Logistic Regression</td>\n",
              "      <td>0.906927</td>\n",
              "      <td>0.878390</td>\n",
              "    </tr>\n",
              "    <tr>\n",
              "      <th>1</th>\n",
              "      <td>Naive Bayes</td>\n",
              "      <td>0.901075</td>\n",
              "      <td>0.869489</td>\n",
              "    </tr>\n",
              "    <tr>\n",
              "      <th>2</th>\n",
              "      <td>SVM</td>\n",
              "      <td>0.907093</td>\n",
              "      <td>0.879414</td>\n",
              "    </tr>\n",
              "    <tr>\n",
              "      <th>3</th>\n",
              "      <td>Random Forest</td>\n",
              "      <td>0.913140</td>\n",
              "      <td>0.886953</td>\n",
              "    </tr>\n",
              "  </tbody>\n",
              "</table>\n",
              "</div>\n",
              "      <button class=\"colab-df-convert\" onclick=\"convertToInteractive('df-1c46963c-756c-44a1-ac82-68b2e8a2b8e3')\"\n",
              "              title=\"Convert this dataframe to an interactive table.\"\n",
              "              style=\"display:none;\">\n",
              "        \n",
              "  <svg xmlns=\"http://www.w3.org/2000/svg\" height=\"24px\"viewBox=\"0 0 24 24\"\n",
              "       width=\"24px\">\n",
              "    <path d=\"M0 0h24v24H0V0z\" fill=\"none\"/>\n",
              "    <path d=\"M18.56 5.44l.94 2.06.94-2.06 2.06-.94-2.06-.94-.94-2.06-.94 2.06-2.06.94zm-11 1L8.5 8.5l.94-2.06 2.06-.94-2.06-.94L8.5 2.5l-.94 2.06-2.06.94zm10 10l.94 2.06.94-2.06 2.06-.94-2.06-.94-.94-2.06-.94 2.06-2.06.94z\"/><path d=\"M17.41 7.96l-1.37-1.37c-.4-.4-.92-.59-1.43-.59-.52 0-1.04.2-1.43.59L10.3 9.45l-7.72 7.72c-.78.78-.78 2.05 0 2.83L4 21.41c.39.39.9.59 1.41.59.51 0 1.02-.2 1.41-.59l7.78-7.78 2.81-2.81c.8-.78.8-2.07 0-2.86zM5.41 20L4 18.59l7.72-7.72 1.47 1.35L5.41 20z\"/>\n",
              "  </svg>\n",
              "      </button>\n",
              "      \n",
              "  <style>\n",
              "    .colab-df-container {\n",
              "      display:flex;\n",
              "      flex-wrap:wrap;\n",
              "      gap: 12px;\n",
              "    }\n",
              "\n",
              "    .colab-df-convert {\n",
              "      background-color: #E8F0FE;\n",
              "      border: none;\n",
              "      border-radius: 50%;\n",
              "      cursor: pointer;\n",
              "      display: none;\n",
              "      fill: #1967D2;\n",
              "      height: 32px;\n",
              "      padding: 0 0 0 0;\n",
              "      width: 32px;\n",
              "    }\n",
              "\n",
              "    .colab-df-convert:hover {\n",
              "      background-color: #E2EBFA;\n",
              "      box-shadow: 0px 1px 2px rgba(60, 64, 67, 0.3), 0px 1px 3px 1px rgba(60, 64, 67, 0.15);\n",
              "      fill: #174EA6;\n",
              "    }\n",
              "\n",
              "    [theme=dark] .colab-df-convert {\n",
              "      background-color: #3B4455;\n",
              "      fill: #D2E3FC;\n",
              "    }\n",
              "\n",
              "    [theme=dark] .colab-df-convert:hover {\n",
              "      background-color: #434B5C;\n",
              "      box-shadow: 0px 1px 3px 1px rgba(0, 0, 0, 0.15);\n",
              "      filter: drop-shadow(0px 1px 2px rgba(0, 0, 0, 0.3));\n",
              "      fill: #FFFFFF;\n",
              "    }\n",
              "  </style>\n",
              "\n",
              "      <script>\n",
              "        const buttonEl =\n",
              "          document.querySelector('#df-1c46963c-756c-44a1-ac82-68b2e8a2b8e3 button.colab-df-convert');\n",
              "        buttonEl.style.display =\n",
              "          google.colab.kernel.accessAllowed ? 'block' : 'none';\n",
              "\n",
              "        async function convertToInteractive(key) {\n",
              "          const element = document.querySelector('#df-1c46963c-756c-44a1-ac82-68b2e8a2b8e3');\n",
              "          const dataTable =\n",
              "            await google.colab.kernel.invokeFunction('convertToInteractive',\n",
              "                                                     [key], {});\n",
              "          if (!dataTable) return;\n",
              "\n",
              "          const docLinkHtml = 'Like what you see? Visit the ' +\n",
              "            '<a target=\"_blank\" href=https://colab.research.google.com/notebooks/data_table.ipynb>data table notebook</a>'\n",
              "            + ' to learn more about interactive tables.';\n",
              "          element.innerHTML = '';\n",
              "          dataTable['output_type'] = 'display_data';\n",
              "          await google.colab.output.renderOutput(dataTable, element);\n",
              "          const docLink = document.createElement('div');\n",
              "          docLink.innerHTML = docLinkHtml;\n",
              "          element.appendChild(docLink);\n",
              "        }\n",
              "      </script>\n",
              "    </div>\n",
              "  </div>\n",
              "  "
            ]
          },
          "metadata": {},
          "execution_count": 40
        }
      ]
    },
    {
      "cell_type": "markdown",
      "source": [
        "Based on F1 socre, Random Forest model with min_sample_split = 20, and 200 n_estimators performed the best, this model will be used in part 2."
      ],
      "metadata": {
        "id": "b0D2M9CL9sEO"
      }
    },
    {
      "cell_type": "markdown",
      "source": [
        "# Part 2"
      ],
      "metadata": {
        "id": "Pe0TKplc9815"
      }
    },
    {
      "cell_type": "markdown",
      "source": [
        "In this part, our group will use newsAPI to collect the descriptions of news articles involve keywords: \"russia\", \"ukraine\", and \"war\". Then use the trained model from part 1 to perform Sentiment_Analysis on news descriptions to evaluate if it will be labeled as positive or negative."
      ],
      "metadata": {
        "id": "EsavhMFRpXiX"
      }
    },
    {
      "cell_type": "code",
      "source": [
        "!pip install newsapi-python\n",
        "import pandas as pd\n",
        "from newsapi import NewsApiClient\n",
        "from collections import Counter\n",
        "import datetime"
      ],
      "metadata": {
        "id": "Q_hk7-rJ98lx",
        "colab": {
          "base_uri": "https://localhost:8080/"
        },
        "outputId": "36b49d40-0c12-4e89-dace-c0b410cf5b4f"
      },
      "execution_count": null,
      "outputs": [
        {
          "output_type": "stream",
          "name": "stdout",
          "text": [
            "Looking in indexes: https://pypi.org/simple, https://us-python.pkg.dev/colab-wheels/public/simple/\n",
            "Collecting newsapi-python\n",
            "  Downloading newsapi_python-0.2.7-py2.py3-none-any.whl (7.9 kB)\n",
            "Requirement already satisfied: requests<3.0.0 in /usr/local/lib/python3.9/dist-packages (from newsapi-python) (2.27.1)\n",
            "Requirement already satisfied: idna<4,>=2.5 in /usr/local/lib/python3.9/dist-packages (from requests<3.0.0->newsapi-python) (3.4)\n",
            "Requirement already satisfied: charset-normalizer~=2.0.0 in /usr/local/lib/python3.9/dist-packages (from requests<3.0.0->newsapi-python) (2.0.12)\n",
            "Requirement already satisfied: urllib3<1.27,>=1.21.1 in /usr/local/lib/python3.9/dist-packages (from requests<3.0.0->newsapi-python) (1.26.15)\n",
            "Requirement already satisfied: certifi>=2017.4.17 in /usr/local/lib/python3.9/dist-packages (from requests<3.0.0->newsapi-python) (2022.12.7)\n",
            "Installing collected packages: newsapi-python\n",
            "Successfully installed newsapi-python-0.2.7\n"
          ]
        }
      ]
    },
    {
      "cell_type": "markdown",
      "source": [
        "*To save the api usage, the following cell should **only** be called when the sources or date needs to be modified. *"
      ],
      "metadata": {
        "id": "bZ4TiuvRvfLj"
      }
    },
    {
      "cell_type": "code",
      "source": [
        "# Initialize NewsAPI client\n",
        "newsapi = NewsApiClient(api_key='4678da4b69ee46599f1280355d700b2e')\n",
        "\n",
        "# Set query parameters\n",
        "query = 'russia AND ukraine AND war' #keywords\n",
        "language = 'en'\n",
        "today = datetime.date.today()\n",
        "from_date = (today - datetime.timedelta(days=25)).isoformat()\n",
        "\n",
        "aggregated_list = []\n",
        "list_of_news_sources = ['bbc-news','the-verge', 'abc-news','associated-press', 'bloomberg', 'business-insider', 'cbs-news', 'cnn',\n",
        "                        'fortune','fox-news','google-news','msnbc','politico', 'reuters','the-wall-street-journal','the-washington-post','time','usa-today','wired']\n",
        "# Retrieve articles\n",
        "for src in list_of_news_sources:\n",
        "  articles = newsapi.get_everything(q=query,\n",
        "                                    sources=src,\n",
        "                                    language=language,\n",
        "                                    from_param=from_date,\n",
        "                                    sort_by='relevancy')\n",
        "\n",
        "  # Extract description text from articles\n",
        "  descriptions = [article['description'] for article in articles['articles']]\n",
        "  aggregated_list.extend(descriptions)\n",
        "\n",
        "news_df = pd.DataFrame({\n",
        "    'description': aggregated_list,\n",
        "\n",
        "})\n",
        "news_df['description'] = news_df['description'].astype(str)\n",
        "news_df\n"
      ],
      "metadata": {
        "id": "5atrLYOv93ua"
      },
      "execution_count": null,
      "outputs": []
    },
    {
      "cell_type": "markdown",
      "source": [
        "The pre-processed news data should be loaded here in this step:"
      ],
      "metadata": {
        "id": "6bNBck7fvo_F"
      }
    },
    {
      "cell_type": "code",
      "source": [
        "#news_df.to_csv('/news_description.csv', index=False)\n",
        "news_df = pd.read_csv('news_description.csv')"
      ],
      "metadata": {
        "id": "IAKZD7ZNlBQp"
      },
      "execution_count": 12,
      "outputs": []
    },
    {
      "cell_type": "code",
      "source": [
        "#Treat the raw string\n",
        "news_df['Cleaned'] = news_df['description'].apply(clean)\n"
      ],
      "metadata": {
        "id": "8Ws_k4Jag-c4"
      },
      "execution_count": 14,
      "outputs": []
    },
    {
      "cell_type": "code",
      "source": [
        "news_df"
      ],
      "metadata": {
        "colab": {
          "base_uri": "https://localhost:8080/",
          "height": 424
        },
        "id": "hzl3gTfBiBjd",
        "outputId": "f504bb84-2bfd-4c77-e9c7-a79d3f0d39f8"
      },
      "execution_count": 15,
      "outputs": [
        {
          "output_type": "execute_result",
          "data": {
            "text/plain": [
              "                                            description  \\\n",
              "0     The Russian ambassador said he wanted the UN t...   \n",
              "1     Steve Rosenberg looks at why Vladimir Putin se...   \n",
              "2     Both Ukraine and Russia have reported inflicti...   \n",
              "3     Russia and China refused to condemn Moscow's i...   \n",
              "4     The resolution is approved by 141 countries, w...   \n",
              "...                                                 ...   \n",
              "1282  Since Russia’s full-scale assault began, Ukrai...   \n",
              "1283  Plus: The US Marshals disclose a “major” cyber...   \n",
              "1284  Clearview AI is being used by the Ukrainian go...   \n",
              "1285  Digital traces including social posts and sear...   \n",
              "1286  A new State Department proposal asks other nat...   \n",
              "\n",
              "                                                Cleaned  \n",
              "0     russian ambassador said wanted un commemorate ...  \n",
              "1     steve rosenberg looks vladimir putin set sail ...  \n",
              "2     ukraine russia reported inflicting significant...  \n",
              "3     russia china refused condemn moscow s invasion...  \n",
              "4     resolution approved 141 countries  seven  incl...  \n",
              "...                                                 ...  \n",
              "1282  since russia  fullscale assault began  ukraine...  \n",
              "1283  plus  us marshals disclose  major  cybersecuri...  \n",
              "1284  clearview ai used ukrainian government identif...  \n",
              "1285  digital traces including social posts search q...  \n",
              "1286  new state department proposal asks nations agr...  \n",
              "\n",
              "[1287 rows x 2 columns]"
            ],
            "text/html": [
              "\n",
              "  <div id=\"df-9c0655d2-8c32-41cb-b0e9-d6fb6719d401\">\n",
              "    <div class=\"colab-df-container\">\n",
              "      <div>\n",
              "<style scoped>\n",
              "    .dataframe tbody tr th:only-of-type {\n",
              "        vertical-align: middle;\n",
              "    }\n",
              "\n",
              "    .dataframe tbody tr th {\n",
              "        vertical-align: top;\n",
              "    }\n",
              "\n",
              "    .dataframe thead th {\n",
              "        text-align: right;\n",
              "    }\n",
              "</style>\n",
              "<table border=\"1\" class=\"dataframe\">\n",
              "  <thead>\n",
              "    <tr style=\"text-align: right;\">\n",
              "      <th></th>\n",
              "      <th>description</th>\n",
              "      <th>Cleaned</th>\n",
              "    </tr>\n",
              "  </thead>\n",
              "  <tbody>\n",
              "    <tr>\n",
              "      <th>0</th>\n",
              "      <td>The Russian ambassador said he wanted the UN t...</td>\n",
              "      <td>russian ambassador said wanted un commemorate ...</td>\n",
              "    </tr>\n",
              "    <tr>\n",
              "      <th>1</th>\n",
              "      <td>Steve Rosenberg looks at why Vladimir Putin se...</td>\n",
              "      <td>steve rosenberg looks vladimir putin set sail ...</td>\n",
              "    </tr>\n",
              "    <tr>\n",
              "      <th>2</th>\n",
              "      <td>Both Ukraine and Russia have reported inflicti...</td>\n",
              "      <td>ukraine russia reported inflicting significant...</td>\n",
              "    </tr>\n",
              "    <tr>\n",
              "      <th>3</th>\n",
              "      <td>Russia and China refused to condemn Moscow's i...</td>\n",
              "      <td>russia china refused condemn moscow s invasion...</td>\n",
              "    </tr>\n",
              "    <tr>\n",
              "      <th>4</th>\n",
              "      <td>The resolution is approved by 141 countries, w...</td>\n",
              "      <td>resolution approved 141 countries  seven  incl...</td>\n",
              "    </tr>\n",
              "    <tr>\n",
              "      <th>...</th>\n",
              "      <td>...</td>\n",
              "      <td>...</td>\n",
              "    </tr>\n",
              "    <tr>\n",
              "      <th>1282</th>\n",
              "      <td>Since Russia’s full-scale assault began, Ukrai...</td>\n",
              "      <td>since russia  fullscale assault began  ukraine...</td>\n",
              "    </tr>\n",
              "    <tr>\n",
              "      <th>1283</th>\n",
              "      <td>Plus: The US Marshals disclose a “major” cyber...</td>\n",
              "      <td>plus  us marshals disclose  major  cybersecuri...</td>\n",
              "    </tr>\n",
              "    <tr>\n",
              "      <th>1284</th>\n",
              "      <td>Clearview AI is being used by the Ukrainian go...</td>\n",
              "      <td>clearview ai used ukrainian government identif...</td>\n",
              "    </tr>\n",
              "    <tr>\n",
              "      <th>1285</th>\n",
              "      <td>Digital traces including social posts and sear...</td>\n",
              "      <td>digital traces including social posts search q...</td>\n",
              "    </tr>\n",
              "    <tr>\n",
              "      <th>1286</th>\n",
              "      <td>A new State Department proposal asks other nat...</td>\n",
              "      <td>new state department proposal asks nations agr...</td>\n",
              "    </tr>\n",
              "  </tbody>\n",
              "</table>\n",
              "<p>1287 rows × 2 columns</p>\n",
              "</div>\n",
              "      <button class=\"colab-df-convert\" onclick=\"convertToInteractive('df-9c0655d2-8c32-41cb-b0e9-d6fb6719d401')\"\n",
              "              title=\"Convert this dataframe to an interactive table.\"\n",
              "              style=\"display:none;\">\n",
              "        \n",
              "  <svg xmlns=\"http://www.w3.org/2000/svg\" height=\"24px\"viewBox=\"0 0 24 24\"\n",
              "       width=\"24px\">\n",
              "    <path d=\"M0 0h24v24H0V0z\" fill=\"none\"/>\n",
              "    <path d=\"M18.56 5.44l.94 2.06.94-2.06 2.06-.94-2.06-.94-.94-2.06-.94 2.06-2.06.94zm-11 1L8.5 8.5l.94-2.06 2.06-.94-2.06-.94L8.5 2.5l-.94 2.06-2.06.94zm10 10l.94 2.06.94-2.06 2.06-.94-2.06-.94-.94-2.06-.94 2.06-2.06.94z\"/><path d=\"M17.41 7.96l-1.37-1.37c-.4-.4-.92-.59-1.43-.59-.52 0-1.04.2-1.43.59L10.3 9.45l-7.72 7.72c-.78.78-.78 2.05 0 2.83L4 21.41c.39.39.9.59 1.41.59.51 0 1.02-.2 1.41-.59l7.78-7.78 2.81-2.81c.8-.78.8-2.07 0-2.86zM5.41 20L4 18.59l7.72-7.72 1.47 1.35L5.41 20z\"/>\n",
              "  </svg>\n",
              "      </button>\n",
              "      \n",
              "  <style>\n",
              "    .colab-df-container {\n",
              "      display:flex;\n",
              "      flex-wrap:wrap;\n",
              "      gap: 12px;\n",
              "    }\n",
              "\n",
              "    .colab-df-convert {\n",
              "      background-color: #E8F0FE;\n",
              "      border: none;\n",
              "      border-radius: 50%;\n",
              "      cursor: pointer;\n",
              "      display: none;\n",
              "      fill: #1967D2;\n",
              "      height: 32px;\n",
              "      padding: 0 0 0 0;\n",
              "      width: 32px;\n",
              "    }\n",
              "\n",
              "    .colab-df-convert:hover {\n",
              "      background-color: #E2EBFA;\n",
              "      box-shadow: 0px 1px 2px rgba(60, 64, 67, 0.3), 0px 1px 3px 1px rgba(60, 64, 67, 0.15);\n",
              "      fill: #174EA6;\n",
              "    }\n",
              "\n",
              "    [theme=dark] .colab-df-convert {\n",
              "      background-color: #3B4455;\n",
              "      fill: #D2E3FC;\n",
              "    }\n",
              "\n",
              "    [theme=dark] .colab-df-convert:hover {\n",
              "      background-color: #434B5C;\n",
              "      box-shadow: 0px 1px 3px 1px rgba(0, 0, 0, 0.15);\n",
              "      filter: drop-shadow(0px 1px 2px rgba(0, 0, 0, 0.3));\n",
              "      fill: #FFFFFF;\n",
              "    }\n",
              "  </style>\n",
              "\n",
              "      <script>\n",
              "        const buttonEl =\n",
              "          document.querySelector('#df-9c0655d2-8c32-41cb-b0e9-d6fb6719d401 button.colab-df-convert');\n",
              "        buttonEl.style.display =\n",
              "          google.colab.kernel.accessAllowed ? 'block' : 'none';\n",
              "\n",
              "        async function convertToInteractive(key) {\n",
              "          const element = document.querySelector('#df-9c0655d2-8c32-41cb-b0e9-d6fb6719d401');\n",
              "          const dataTable =\n",
              "            await google.colab.kernel.invokeFunction('convertToInteractive',\n",
              "                                                     [key], {});\n",
              "          if (!dataTable) return;\n",
              "\n",
              "          const docLinkHtml = 'Like what you see? Visit the ' +\n",
              "            '<a target=\"_blank\" href=https://colab.research.google.com/notebooks/data_table.ipynb>data table notebook</a>'\n",
              "            + ' to learn more about interactive tables.';\n",
              "          element.innerHTML = '';\n",
              "          dataTable['output_type'] = 'display_data';\n",
              "          await google.colab.output.renderOutput(dataTable, element);\n",
              "          const docLink = document.createElement('div');\n",
              "          docLink.innerHTML = docLinkHtml;\n",
              "          element.appendChild(docLink);\n",
              "        }\n",
              "      </script>\n",
              "    </div>\n",
              "  </div>\n",
              "  "
            ]
          },
          "metadata": {},
          "execution_count": 15
        }
      ]
    },
    {
      "cell_type": "markdown",
      "source": [
        "Fit the cleaned news data on the best model part 1 trained (Random Forest)"
      ],
      "metadata": {
        "id": "rHD1DIfbynxd"
      }
    },
    {
      "cell_type": "code",
      "source": [
        "X_news_data = tfidf.fit_transform(news_df['Cleaned']) # fit-transform the vectorizer"
      ],
      "metadata": {
        "id": "wH2bQG-kZLUK"
      },
      "execution_count": 17,
      "outputs": []
    },
    {
      "cell_type": "code",
      "source": [
        "\n",
        "y_pred_RF_news = bestRFmodel.predict(X_news_data)\n"
      ],
      "metadata": {
        "colab": {
          "base_uri": "https://localhost:8080/"
        },
        "id": "dwgFBgrKuH0h",
        "outputId": "1faeaa37-3e7c-4850-e300-ecf2a5f64fd3"
      },
      "execution_count": 53,
      "outputs": [
        {
          "output_type": "stream",
          "name": "stderr",
          "text": [
            "/usr/local/lib/python3.9/dist-packages/sklearn/base.py:439: UserWarning: X does not have valid feature names, but RandomForestClassifier was fitted with feature names\n",
            "  warnings.warn(\n"
          ]
        }
      ]
    },
    {
      "cell_type": "code",
      "source": [
        "def pie_plot(label):\n",
        "  plt.figure(figsize=(8, 8))\n",
        "  # count the number of positive and negative labels\n",
        "  pos_count = np.count_nonzero(label)\n",
        "  neg_count = len(label) - pos_count\n",
        "\n",
        "  # calculate the percentages of positive and negative labels\n",
        "  pos_percent = pos_count / len(label) * 100\n",
        "  neg_percent = neg_count / len(label) * 100\n",
        "\n",
        "  # create a pie chart\n",
        "  fig, ax = plt.subplots()\n",
        "  ax.pie([pos_percent, neg_percent], labels=['Positive', 'Negative'], autopct='%1.1f%%')\n",
        "  ax.axis('equal')  # equal aspect ratio ensures that the pie is drawn as a circle\n",
        "  ax.set_title('Percentage of Positive and Negative Labels')\n",
        "\n",
        "  plt.show()"
      ],
      "metadata": {
        "id": "ioV_XdN7xNzP"
      },
      "execution_count": 67,
      "outputs": []
    },
    {
      "cell_type": "code",
      "source": [
        "pie_plot(y_pred_RF_news)"
      ],
      "metadata": {
        "colab": {
          "base_uri": "https://localhost:8080/",
          "height": 281
        },
        "id": "i0W3MzrzZbyu",
        "outputId": "5fd593ae-7a8f-454c-f35a-467892b99f6e"
      },
      "execution_count": 68,
      "outputs": [
        {
          "output_type": "display_data",
          "data": {
            "text/plain": [
              "<Figure size 576x576 with 0 Axes>"
            ]
          },
          "metadata": {}
        },
        {
          "output_type": "display_data",
          "data": {
            "text/plain": [
              "<Figure size 432x288 with 1 Axes>"
            ],
            "image/png": "[encoded data removed]"
          },
          "metadata": {}
        }
      ]
    },
    {
      "cell_type": "markdown",
      "source": [
        "Fit the cleaned news data on the NLTK pre-trained sentiment model to compare the result with our own model in part 1"
      ],
      "metadata": {
        "id": "jm-RmS7wyvx1"
      }
    },
    {
      "cell_type": "code",
      "source": [
        "from nltk.sentiment.vader import SentimentIntensityAnalyzer\n",
        "\n",
        "def add_sentiment_score(df, text_col):\n",
        "    # create an instance of the SentimentIntensityAnalyzer class\n",
        "    analyzer = SentimentIntensityAnalyzer()\n",
        "\n",
        "    # loop through each row of the dataframe and calculate the compound sentiment score\n",
        "    scores = []\n",
        "    for i, row in df.iterrows():\n",
        "        text = row[text_col]\n",
        "        score = analyzer.polarity_scores(text)['compound']\n",
        "        scores.append(score)\n",
        "\n",
        "    # create a new column in the dataframe based on the compound sentiment score\n",
        "    df['score'] = [1 if score > 0.5 else 0 for score in scores]\n",
        "\n",
        "    return df\n",
        "\n",
        "\n"
      ],
      "metadata": {
        "id": "3j1Ux4rCzfHC"
      },
      "execution_count": 61,
      "outputs": []
    },
    {
      "cell_type": "code",
      "source": [
        "add_sentiment_score(news_df, 'Cleaned')"
      ],
      "metadata": {
        "colab": {
          "base_uri": "https://localhost:8080/",
          "height": 424
        },
        "id": "WadY0rcI1K4S",
        "outputId": "f3268102-349e-46ac-9edc-f9cab3795431"
      },
      "execution_count": 63,
      "outputs": [
        {
          "output_type": "execute_result",
          "data": {
            "text/plain": [
              "                                            description  \\\n",
              "0     The Russian ambassador said he wanted the UN t...   \n",
              "1     Steve Rosenberg looks at why Vladimir Putin se...   \n",
              "2     Both Ukraine and Russia have reported inflicti...   \n",
              "3     Russia and China refused to condemn Moscow's i...   \n",
              "4     The resolution is approved by 141 countries, w...   \n",
              "...                                                 ...   \n",
              "1282  Since Russia’s full-scale assault began, Ukrai...   \n",
              "1283  Plus: The US Marshals disclose a “major” cyber...   \n",
              "1284  Clearview AI is being used by the Ukrainian go...   \n",
              "1285  Digital traces including social posts and sear...   \n",
              "1286  A new State Department proposal asks other nat...   \n",
              "\n",
              "                                                Cleaned  score  \n",
              "0     russian ambassador said wanted un commemorate ...      0  \n",
              "1     steve rosenberg looks vladimir putin set sail ...      0  \n",
              "2     ukraine russia reported inflicting significant...      0  \n",
              "3     russia china refused condemn moscow s invasion...      0  \n",
              "4     resolution approved 141 countries  seven  incl...      0  \n",
              "...                                                 ...    ...  \n",
              "1282  since russia  fullscale assault began  ukraine...      0  \n",
              "1283  plus  us marshals disclose  major  cybersecuri...      0  \n",
              "1284  clearview ai used ukrainian government identif...      0  \n",
              "1285  digital traces including social posts search q...      0  \n",
              "1286  new state department proposal asks nations agr...      0  \n",
              "\n",
              "[1287 rows x 3 columns]"
            ],
            "text/html": [
              "\n",
              "  <div id=\"df-082fc029-8e02-4c99-8629-31ae2cca9765\">\n",
              "    <div class=\"colab-df-container\">\n",
              "      <div>\n",
              "<style scoped>\n",
              "    .dataframe tbody tr th:only-of-type {\n",
              "        vertical-align: middle;\n",
              "    }\n",
              "\n",
              "    .dataframe tbody tr th {\n",
              "        vertical-align: top;\n",
              "    }\n",
              "\n",
              "    .dataframe thead th {\n",
              "        text-align: right;\n",
              "    }\n",
              "</style>\n",
              "<table border=\"1\" class=\"dataframe\">\n",
              "  <thead>\n",
              "    <tr style=\"text-align: right;\">\n",
              "      <th></th>\n",
              "      <th>description</th>\n",
              "      <th>Cleaned</th>\n",
              "      <th>score</th>\n",
              "    </tr>\n",
              "  </thead>\n",
              "  <tbody>\n",
              "    <tr>\n",
              "      <th>0</th>\n",
              "      <td>The Russian ambassador said he wanted the UN t...</td>\n",
              "      <td>russian ambassador said wanted un commemorate ...</td>\n",
              "      <td>0</td>\n",
              "    </tr>\n",
              "    <tr>\n",
              "      <th>1</th>\n",
              "      <td>Steve Rosenberg looks at why Vladimir Putin se...</td>\n",
              "      <td>steve rosenberg looks vladimir putin set sail ...</td>\n",
              "      <td>0</td>\n",
              "    </tr>\n",
              "    <tr>\n",
              "      <th>2</th>\n",
              "      <td>Both Ukraine and Russia have reported inflicti...</td>\n",
              "      <td>ukraine russia reported inflicting significant...</td>\n",
              "      <td>0</td>\n",
              "    </tr>\n",
              "    <tr>\n",
              "      <th>3</th>\n",
              "      <td>Russia and China refused to condemn Moscow's i...</td>\n",
              "      <td>russia china refused condemn moscow s invasion...</td>\n",
              "      <td>0</td>\n",
              "    </tr>\n",
              "    <tr>\n",
              "      <th>4</th>\n",
              "      <td>The resolution is approved by 141 countries, w...</td>\n",
              "      <td>resolution approved 141 countries  seven  incl...</td>\n",
              "      <td>0</td>\n",
              "    </tr>\n",
              "    <tr>\n",
              "      <th>...</th>\n",
              "      <td>...</td>\n",
              "      <td>...</td>\n",
              "      <td>...</td>\n",
              "    </tr>\n",
              "    <tr>\n",
              "      <th>1282</th>\n",
              "      <td>Since Russia’s full-scale assault began, Ukrai...</td>\n",
              "      <td>since russia  fullscale assault began  ukraine...</td>\n",
              "      <td>0</td>\n",
              "    </tr>\n",
              "    <tr>\n",
              "      <th>1283</th>\n",
              "      <td>Plus: The US Marshals disclose a “major” cyber...</td>\n",
              "      <td>plus  us marshals disclose  major  cybersecuri...</td>\n",
              "      <td>0</td>\n",
              "    </tr>\n",
              "    <tr>\n",
              "      <th>1284</th>\n",
              "      <td>Clearview AI is being used by the Ukrainian go...</td>\n",
              "      <td>clearview ai used ukrainian government identif...</td>\n",
              "      <td>0</td>\n",
              "    </tr>\n",
              "    <tr>\n",
              "      <th>1285</th>\n",
              "      <td>Digital traces including social posts and sear...</td>\n",
              "      <td>digital traces including social posts search q...</td>\n",
              "      <td>0</td>\n",
              "    </tr>\n",
              "    <tr>\n",
              "      <th>1286</th>\n",
              "      <td>A new State Department proposal asks other nat...</td>\n",
              "      <td>new state department proposal asks nations agr...</td>\n",
              "      <td>0</td>\n",
              "    </tr>\n",
              "  </tbody>\n",
              "</table>\n",
              "<p>1287 rows × 3 columns</p>\n",
              "</div>\n",
              "      <button class=\"colab-df-convert\" onclick=\"convertToInteractive('df-082fc029-8e02-4c99-8629-31ae2cca9765')\"\n",
              "              title=\"Convert this dataframe to an interactive table.\"\n",
              "              style=\"display:none;\">\n",
              "        \n",
              "  <svg xmlns=\"http://www.w3.org/2000/svg\" height=\"24px\"viewBox=\"0 0 24 24\"\n",
              "       width=\"24px\">\n",
              "    <path d=\"M0 0h24v24H0V0z\" fill=\"none\"/>\n",
              "    <path d=\"M18.56 5.44l.94 2.06.94-2.06 2.06-.94-2.06-.94-.94-2.06-.94 2.06-2.06.94zm-11 1L8.5 8.5l.94-2.06 2.06-.94-2.06-.94L8.5 2.5l-.94 2.06-2.06.94zm10 10l.94 2.06.94-2.06 2.06-.94-2.06-.94-.94-2.06-.94 2.06-2.06.94z\"/><path d=\"M17.41 7.96l-1.37-1.37c-.4-.4-.92-.59-1.43-.59-.52 0-1.04.2-1.43.59L10.3 9.45l-7.72 7.72c-.78.78-.78 2.05 0 2.83L4 21.41c.39.39.9.59 1.41.59.51 0 1.02-.2 1.41-.59l7.78-7.78 2.81-2.81c.8-.78.8-2.07 0-2.86zM5.41 20L4 18.59l7.72-7.72 1.47 1.35L5.41 20z\"/>\n",
              "  </svg>\n",
              "      </button>\n",
              "      \n",
              "  <style>\n",
              "    .colab-df-container {\n",
              "      display:flex;\n",
              "      flex-wrap:wrap;\n",
              "      gap: 12px;\n",
              "    }\n",
              "\n",
              "    .colab-df-convert {\n",
              "      background-color: #E8F0FE;\n",
              "      border: none;\n",
              "      border-radius: 50%;\n",
              "      cursor: pointer;\n",
              "      display: none;\n",
              "      fill: #1967D2;\n",
              "      height: 32px;\n",
              "      padding: 0 0 0 0;\n",
              "      width: 32px;\n",
              "    }\n",
              "\n",
              "    .colab-df-convert:hover {\n",
              "      background-color: #E2EBFA;\n",
              "      box-shadow: 0px 1px 2px rgba(60, 64, 67, 0.3), 0px 1px 3px 1px rgba(60, 64, 67, 0.15);\n",
              "      fill: #174EA6;\n",
              "    }\n",
              "\n",
              "    [theme=dark] .colab-df-convert {\n",
              "      background-color: #3B4455;\n",
              "      fill: #D2E3FC;\n",
              "    }\n",
              "\n",
              "    [theme=dark] .colab-df-convert:hover {\n",
              "      background-color: #434B5C;\n",
              "      box-shadow: 0px 1px 3px 1px rgba(0, 0, 0, 0.15);\n",
              "      filter: drop-shadow(0px 1px 2px rgba(0, 0, 0, 0.3));\n",
              "      fill: #FFFFFF;\n",
              "    }\n",
              "  </style>\n",
              "\n",
              "      <script>\n",
              "        const buttonEl =\n",
              "          document.querySelector('#df-082fc029-8e02-4c99-8629-31ae2cca9765 button.colab-df-convert');\n",
              "        buttonEl.style.display =\n",
              "          google.colab.kernel.accessAllowed ? 'block' : 'none';\n",
              "\n",
              "        async function convertToInteractive(key) {\n",
              "          const element = document.querySelector('#df-082fc029-8e02-4c99-8629-31ae2cca9765');\n",
              "          const dataTable =\n",
              "            await google.colab.kernel.invokeFunction('convertToInteractive',\n",
              "                                                     [key], {});\n",
              "          if (!dataTable) return;\n",
              "\n",
              "          const docLinkHtml = 'Like what you see? Visit the ' +\n",
              "            '<a target=\"_blank\" href=https://colab.research.google.com/notebooks/data_table.ipynb>data table notebook</a>'\n",
              "            + ' to learn more about interactive tables.';\n",
              "          element.innerHTML = '';\n",
              "          dataTable['output_type'] = 'display_data';\n",
              "          await google.colab.output.renderOutput(dataTable, element);\n",
              "          const docLink = document.createElement('div');\n",
              "          docLink.innerHTML = docLinkHtml;\n",
              "          element.appendChild(docLink);\n",
              "        }\n",
              "      </script>\n",
              "    </div>\n",
              "  </div>\n",
              "  "
            ]
          },
          "metadata": {},
          "execution_count": 63
        }
      ]
    },
    {
      "cell_type": "code",
      "source": [
        "pie_plot(news_df['score'])"
      ],
      "metadata": {
        "colab": {
          "base_uri": "https://localhost:8080/",
          "height": 281
        },
        "id": "Et2lliyD1aJ9",
        "outputId": "13b4d18f-3d66-47a1-993a-f1f9e196e52c"
      },
      "execution_count": 69,
      "outputs": [
        {
          "output_type": "display_data",
          "data": {
            "text/plain": [
              "<Figure size 576x576 with 0 Axes>"
            ]
          },
          "metadata": {}
        },
        {
          "output_type": "display_data",
          "data": {
            "text/plain": [
              "<Figure size 432x288 with 1 Axes>"
            ],
            "image/png": "[encoded data removed]"
          },
          "metadata": {}
        }
      ]
    }
  ]
}