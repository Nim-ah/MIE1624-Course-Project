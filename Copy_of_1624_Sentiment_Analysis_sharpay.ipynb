{
  "nbformat": 4,
  "nbformat_minor": 0,
  "metadata": {
    "colab": {
      "provenance": [],
      "include_colab_link": true
    },
    "kernelspec": {
      "name": "python3",
      "display_name": "Python 3"
    },
    "language_info": {
      "name": "python"
    },
    "gpuClass": "standard"
  },
  "cells": [
    {
      "cell_type": "markdown",
      "metadata": {
        "id": "view-in-github",
        "colab_type": "text"
      },
      "source": [
        "<a href=\"https://colab.research.google.com/github/Nim-ah/MIE1624-Course-Project/blob/main/Copy_of_1624_Sentiment_Analysis_sharpay.ipynb\" target=\"_parent\"><img src=\"https://colab.research.google.com/assets/colab-badge.svg\" alt=\"Open In Colab\"/></a>"
      ]
    },
    {
      "cell_type": "code",
      "source": [
        "import pandas as pd\n",
        "import numpy as np\n",
        "import re\n",
        "import seaborn as sns\n",
        "import matplotlib.pyplot as plt\n",
        "from sklearn.linear_model import LogisticRegression\n",
        "from sklearn.svm import LinearSVC\n",
        "from sklearn.naive_bayes import GaussianNB, BernoulliNB, MultinomialNB\n",
        "from sklearn.model_selection import train_test_split\n",
        "from sklearn.exceptions import ConvergenceWarning\n",
        "from sklearn.naive_bayes import BernoulliNB\n",
        "from sklearn.model_selection import GridSearchCV\n",
        "from sklearn.metrics import roc_curve, auc, f1_score, accuracy_score, roc_auc_score, confusion_matrix\n",
        "from sklearn.ensemble import RandomForestClassifier\n",
        "import nltk\n",
        "nltk.download('stopwords')\n",
        "nltk.download('wordnet')\n",
        "nltk.download('omw-1.4')\n",
        "nltk.download('punkt')\n",
        "nltk.download('vader_lexicon')\n",
        "from nltk.tokenize import RegexpTokenizer\n",
        "from collections import Counter\n",
        "from nltk.tokenize import RegexpTokenizer\n",
        "from nltk.corpus import stopwords\n",
        "from nltk.stem import PorterStemmer, WordNetLemmatizer\n",
        "from sklearn.feature_extraction.text import TfidfVectorizer"
      ],
      "metadata": {
        "colab": {
          "base_uri": "https://localhost:8080/"
        },
        "id": "MmydpwKIJ9X5",
        "outputId": "eb53ee67-fa67-4352-9a78-4c9a2a1642b1"
      },
      "execution_count": null,
      "outputs": [
        {
          "output_type": "stream",
          "name": "stderr",
          "text": [
            "[nltk_data] Downloading package stopwords to /root/nltk_data...\n",
            "[nltk_data]   Unzipping corpora/stopwords.zip.\n",
            "[nltk_data] Downloading package wordnet to /root/nltk_data...\n",
            "[nltk_data] Downloading package omw-1.4 to /root/nltk_data...\n",
            "[nltk_data] Downloading package punkt to /root/nltk_data...\n",
            "[nltk_data]   Unzipping tokenizers/punkt.zip.\n",
            "[nltk_data] Downloading package vader_lexicon to /root/nltk_data...\n"
          ]
        }
      ]
    },
    {
      "cell_type": "markdown",
      "source": [
        "Some incorporated code and references:\n",
        "https://www.kaggle.com/code/hansamaheshwari/twitter-sentiment-analysis-lr-hansa\n"
      ],
      "metadata": {
        "id": "o8SasrPJ8yNW"
      }
    },
    {
      "cell_type": "markdown",
      "source": [
        "# Part 1\n",
        "## Data Pre-Processing"
      ],
      "metadata": {
        "id": "ofe1ASdLkCVz"
      }
    },
    {
      "cell_type": "code",
      "source": [
        "from google.colab import drive\n",
        "drive.mount('/content/drive')"
      ],
      "metadata": {
        "id": "BKTc5uBdwM6t",
        "outputId": "82b29285-3df7-4d3c-8916-4301e39e0d07",
        "colab": {
          "base_uri": "https://localhost:8080/"
        }
      },
      "execution_count": null,
      "outputs": [
        {
          "output_type": "stream",
          "name": "stdout",
          "text": [
            "Mounted at /content/drive\n"
          ]
        }
      ]
    },
    {
      "cell_type": "code",
      "execution_count": null,
      "metadata": {
        "id": "B4R52QKcBpJg",
        "colab": {
          "base_uri": "https://localhost:8080/",
          "height": 206
        },
        "outputId": "e485dcd3-9dc0-41b5-abd5-89d538639423"
      },
      "outputs": [
        {
          "output_type": "execute_result",
          "data": {
            "text/plain": [
              "             ID                                               text  label\n",
              "0  7.680980e+17  Josh Jenkins is looking forward to TAB Breeder...      1\n",
              "1  7.680980e+17  RT @MianUsmanJaved: Congratulations Pakistan o...      1\n",
              "2  7.680980e+17  RT @PEPalerts: This September, @YESmag is taki...      1\n",
              "3  7.680980e+17  RT @david_gaibis: Newly painted walls, thanks ...      1\n",
              "4  7.680980e+17  RT @CedricFeschotte: Excited to announce: as o...      1"
            ],
            "text/html": [
              "\n",
              "  <div id=\"df-249b5835-47b8-4acf-8f35-db3f99e61617\">\n",
              "    <div class=\"colab-df-container\">\n",
              "      <div>\n",
              "<style scoped>\n",
              "    .dataframe tbody tr th:only-of-type {\n",
              "        vertical-align: middle;\n",
              "    }\n",
              "\n",
              "    .dataframe tbody tr th {\n",
              "        vertical-align: top;\n",
              "    }\n",
              "\n",
              "    .dataframe thead th {\n",
              "        text-align: right;\n",
              "    }\n",
              "</style>\n",
              "<table border=\"1\" class=\"dataframe\">\n",
              "  <thead>\n",
              "    <tr style=\"text-align: right;\">\n",
              "      <th></th>\n",
              "      <th>ID</th>\n",
              "      <th>text</th>\n",
              "      <th>label</th>\n",
              "    </tr>\n",
              "  </thead>\n",
              "  <tbody>\n",
              "    <tr>\n",
              "      <th>0</th>\n",
              "      <td>7.680980e+17</td>\n",
              "      <td>Josh Jenkins is looking forward to TAB Breeder...</td>\n",
              "      <td>1</td>\n",
              "    </tr>\n",
              "    <tr>\n",
              "      <th>1</th>\n",
              "      <td>7.680980e+17</td>\n",
              "      <td>RT @MianUsmanJaved: Congratulations Pakistan o...</td>\n",
              "      <td>1</td>\n",
              "    </tr>\n",
              "    <tr>\n",
              "      <th>2</th>\n",
              "      <td>7.680980e+17</td>\n",
              "      <td>RT @PEPalerts: This September, @YESmag is taki...</td>\n",
              "      <td>1</td>\n",
              "    </tr>\n",
              "    <tr>\n",
              "      <th>3</th>\n",
              "      <td>7.680980e+17</td>\n",
              "      <td>RT @david_gaibis: Newly painted walls, thanks ...</td>\n",
              "      <td>1</td>\n",
              "    </tr>\n",
              "    <tr>\n",
              "      <th>4</th>\n",
              "      <td>7.680980e+17</td>\n",
              "      <td>RT @CedricFeschotte: Excited to announce: as o...</td>\n",
              "      <td>1</td>\n",
              "    </tr>\n",
              "  </tbody>\n",
              "</table>\n",
              "</div>\n",
              "      <button class=\"colab-df-convert\" onclick=\"convertToInteractive('df-249b5835-47b8-4acf-8f35-db3f99e61617')\"\n",
              "              title=\"Convert this dataframe to an interactive table.\"\n",
              "              style=\"display:none;\">\n",
              "        \n",
              "  <svg xmlns=\"http://www.w3.org/2000/svg\" height=\"24px\"viewBox=\"0 0 24 24\"\n",
              "       width=\"24px\">\n",
              "    <path d=\"M0 0h24v24H0V0z\" fill=\"none\"/>\n",
              "    <path d=\"M18.56 5.44l.94 2.06.94-2.06 2.06-.94-2.06-.94-.94-2.06-.94 2.06-2.06.94zm-11 1L8.5 8.5l.94-2.06 2.06-.94-2.06-.94L8.5 2.5l-.94 2.06-2.06.94zm10 10l.94 2.06.94-2.06 2.06-.94-2.06-.94-.94-2.06-.94 2.06-2.06.94z\"/><path d=\"M17.41 7.96l-1.37-1.37c-.4-.4-.92-.59-1.43-.59-.52 0-1.04.2-1.43.59L10.3 9.45l-7.72 7.72c-.78.78-.78 2.05 0 2.83L4 21.41c.39.39.9.59 1.41.59.51 0 1.02-.2 1.41-.59l7.78-7.78 2.81-2.81c.8-.78.8-2.07 0-2.86zM5.41 20L4 18.59l7.72-7.72 1.47 1.35L5.41 20z\"/>\n",
              "  </svg>\n",
              "      </button>\n",
              "      \n",
              "  <style>\n",
              "    .colab-df-container {\n",
              "      display:flex;\n",
              "      flex-wrap:wrap;\n",
              "      gap: 12px;\n",
              "    }\n",
              "\n",
              "    .colab-df-convert {\n",
              "      background-color: #E8F0FE;\n",
              "      border: none;\n",
              "      border-radius: 50%;\n",
              "      cursor: pointer;\n",
              "      display: none;\n",
              "      fill: #1967D2;\n",
              "      height: 32px;\n",
              "      padding: 0 0 0 0;\n",
              "      width: 32px;\n",
              "    }\n",
              "\n",
              "    .colab-df-convert:hover {\n",
              "      background-color: #E2EBFA;\n",
              "      box-shadow: 0px 1px 2px rgba(60, 64, 67, 0.3), 0px 1px 3px 1px rgba(60, 64, 67, 0.15);\n",
              "      fill: #174EA6;\n",
              "    }\n",
              "\n",
              "    [theme=dark] .colab-df-convert {\n",
              "      background-color: #3B4455;\n",
              "      fill: #D2E3FC;\n",
              "    }\n",
              "\n",
              "    [theme=dark] .colab-df-convert:hover {\n",
              "      background-color: #434B5C;\n",
              "      box-shadow: 0px 1px 3px 1px rgba(0, 0, 0, 0.15);\n",
              "      filter: drop-shadow(0px 1px 2px rgba(0, 0, 0, 0.3));\n",
              "      fill: #FFFFFF;\n",
              "    }\n",
              "  </style>\n",
              "\n",
              "      <script>\n",
              "        const buttonEl =\n",
              "          document.querySelector('#df-249b5835-47b8-4acf-8f35-db3f99e61617 button.colab-df-convert');\n",
              "        buttonEl.style.display =\n",
              "          google.colab.kernel.accessAllowed ? 'block' : 'none';\n",
              "\n",
              "        async function convertToInteractive(key) {\n",
              "          const element = document.querySelector('#df-249b5835-47b8-4acf-8f35-db3f99e61617');\n",
              "          const dataTable =\n",
              "            await google.colab.kernel.invokeFunction('convertToInteractive',\n",
              "                                                     [key], {});\n",
              "          if (!dataTable) return;\n",
              "\n",
              "          const docLinkHtml = 'Like what you see? Visit the ' +\n",
              "            '<a target=\"_blank\" href=https://colab.research.google.com/notebooks/data_table.ipynb>data table notebook</a>'\n",
              "            + ' to learn more about interactive tables.';\n",
              "          element.innerHTML = '';\n",
              "          dataTable['output_type'] = 'display_data';\n",
              "          await google.colab.output.renderOutput(dataTable, element);\n",
              "          const docLink = document.createElement('div');\n",
              "          docLink.innerHTML = docLinkHtml;\n",
              "          element.appendChild(docLink);\n",
              "        }\n",
              "      </script>\n",
              "    </div>\n",
              "  </div>\n",
              "  "
            ]
          },
          "metadata": {},
          "execution_count": 4
        }
      ],
      "source": [
        "df = pd.read_csv('/content/drive/MyDrive/Colab Notebooks/MIE1624 Data science and analytics/MIE1624-Course-Project-main/sentiment_analysis.csv')\n",
        "df.head()"
      ]
    },
    {
      "cell_type": "markdown",
      "source": [
        "For part 2 you will need to load the text pre-processing code from here \n"
      ],
      "metadata": {
        "id": "TywPA_jSv4Hx"
      }
    },
    {
      "cell_type": "code",
      "source": [
        "# Lower case all the text\n",
        "def lowercase(tweet):\n",
        "    return tweet.lower()\n",
        "\n",
        "#Remove tags\n",
        "def remove_tags(tweet):\n",
        "    return re.sub(\"@[A-Za-z0-9_]+\", '', str(tweet))\n",
        "\n",
        "#Remove mentions\n",
        "def remove_mentions(tweet):\n",
        "    return re.sub(\"#[A-Za-z0-9_]+\", '', str(tweet))\n",
        "\n",
        "# Remove all URLs\n",
        "def remove_url(tweet):\n",
        "    urls = re.compile(r'\\s*(?:https?:\\/\\/)?[\\w.-]+(?:\\.[\\w.-]+)+[\\w\\-._~:/?#[\\]@!\\$&\\'\\(\\)\\*\\+,;=.]+')\n",
        "    return re.sub(urls, ' ', str(tweet))\n",
        "\n",
        "#Token nize the string\n",
        "def tokenize(tweet):\n",
        "    tok_tweet = nltk.tokenize.word_tokenize(tweet)\n",
        "    return ' '.join(tok_tweet)\n",
        "\n",
        "#Remove rt in front of the string if starts with rt is detected\n",
        "def remove_rt (tweet):\n",
        "    x = re.search(\"^rt\",tweet)\n",
        "    if x:\n",
        "        temp = re.sub(\"rt\", '', str(tweet))\n",
        "    else:\n",
        "        temp = tweet\n",
        "    return temp\n",
        "\n",
        "#Remove stopwords\n",
        "def remove_stopwords(tweet):\n",
        "    words = tweet.split()\n",
        "    clean_tweet = [word for word in words if word not in stopwords.words('english')]\n",
        "    return ' '.join(clean_tweet)\n",
        "\n",
        "#remove non alphabatical numbers\n",
        "def remove_nonAlphaNum(tweet):\n",
        "    return re.sub(r'[^\\s\\w]+', '', tweet)"
      ],
      "metadata": {
        "id": "sK5pOD443XST"
      },
      "execution_count": null,
      "outputs": []
    },
    {
      "cell_type": "code",
      "source": [
        "\n",
        "\n",
        "def clean(tweet):\n",
        "    tweet = lowercase(tweet) \n",
        "    tweet = remove_tags(tweet)\n",
        "    tweet = remove_mentions(tweet)\n",
        "    tweet = remove_url(tweet)\n",
        "    tweet = tokenize(tweet)\n",
        "    tweet = remove_rt(tweet)\n",
        "    tweet = remove_stopwords(tweet)\n",
        "    tweet = remove_nonAlphaNum(tweet)\n",
        "    return tweet\n"
      ],
      "metadata": {
        "id": "Ymygpm453U2n"
      },
      "execution_count": null,
      "outputs": []
    },
    {
      "cell_type": "markdown",
      "source": [
        "And stop here"
      ],
      "metadata": {
        "id": "GI-VL4ALv-de"
      }
    },
    {
      "cell_type": "code",
      "source": [
        "#Treat the raw string\n",
        "df['Cleaned'] = df['text'].apply(clean)\n",
        "\n",
        "#Delete ID column as it is not relevant\n",
        "df.drop('ID',axis = 1)"
      ],
      "metadata": {
        "colab": {
          "base_uri": "https://localhost:8080/",
          "height": 389
        },
        "id": "TQCuEspx3bXF",
        "outputId": "05114c66-f7b8-4231-9a3f-81b62ff47dc5"
      },
      "execution_count": null,
      "outputs": [
        {
          "output_type": "error",
          "ename": "KeyboardInterrupt",
          "evalue": "ignored",
          "traceback": [
            "\u001b[0;31m---------------------------------------------------------------------------\u001b[0m",
            "\u001b[0;31mKeyboardInterrupt\u001b[0m                         Traceback (most recent call last)",
            "\u001b[0;32m<ipython-input-15-87bbcf5b6c48>\u001b[0m in \u001b[0;36m<module>\u001b[0;34m\u001b[0m\n\u001b[1;32m      1\u001b[0m \u001b[0;31m#Treat the raw string\u001b[0m\u001b[0;34m\u001b[0m\u001b[0;34m\u001b[0m\u001b[0m\n\u001b[0;32m----> 2\u001b[0;31m \u001b[0mdf\u001b[0m\u001b[0;34m[\u001b[0m\u001b[0;34m'Cleaned'\u001b[0m\u001b[0;34m]\u001b[0m \u001b[0;34m=\u001b[0m \u001b[0mdf\u001b[0m\u001b[0;34m[\u001b[0m\u001b[0;34m'text'\u001b[0m\u001b[0;34m]\u001b[0m\u001b[0;34m.\u001b[0m\u001b[0mapply\u001b[0m\u001b[0;34m(\u001b[0m\u001b[0mclean\u001b[0m\u001b[0;34m)\u001b[0m\u001b[0;34m\u001b[0m\u001b[0;34m\u001b[0m\u001b[0m\n\u001b[0m\u001b[1;32m      3\u001b[0m \u001b[0;34m\u001b[0m\u001b[0m\n\u001b[1;32m      4\u001b[0m \u001b[0;31m#Delete ID column as it is not relevant\u001b[0m\u001b[0;34m\u001b[0m\u001b[0;34m\u001b[0m\u001b[0m\n\u001b[1;32m      5\u001b[0m \u001b[0mdf\u001b[0m\u001b[0;34m.\u001b[0m\u001b[0mdrop\u001b[0m\u001b[0;34m(\u001b[0m\u001b[0;34m'ID'\u001b[0m\u001b[0;34m,\u001b[0m\u001b[0maxis\u001b[0m \u001b[0;34m=\u001b[0m \u001b[0;36m1\u001b[0m\u001b[0;34m)\u001b[0m\u001b[0;34m\u001b[0m\u001b[0;34m\u001b[0m\u001b[0m\n",
            "\u001b[0;32m/usr/local/lib/python3.9/dist-packages/pandas/core/series.py\u001b[0m in \u001b[0;36mapply\u001b[0;34m(self, func, convert_dtype, args, **kwargs)\u001b[0m\n\u001b[1;32m   4431\u001b[0m         \u001b[0mdtype\u001b[0m\u001b[0;34m:\u001b[0m \u001b[0mfloat64\u001b[0m\u001b[0;34m\u001b[0m\u001b[0;34m\u001b[0m\u001b[0m\n\u001b[1;32m   4432\u001b[0m         \"\"\"\n\u001b[0;32m-> 4433\u001b[0;31m         \u001b[0;32mreturn\u001b[0m \u001b[0mSeriesApply\u001b[0m\u001b[0;34m(\u001b[0m\u001b[0mself\u001b[0m\u001b[0;34m,\u001b[0m \u001b[0mfunc\u001b[0m\u001b[0;34m,\u001b[0m \u001b[0mconvert_dtype\u001b[0m\u001b[0;34m,\u001b[0m \u001b[0margs\u001b[0m\u001b[0;34m,\u001b[0m \u001b[0mkwargs\u001b[0m\u001b[0;34m)\u001b[0m\u001b[0;34m.\u001b[0m\u001b[0mapply\u001b[0m\u001b[0;34m(\u001b[0m\u001b[0;34m)\u001b[0m\u001b[0;34m\u001b[0m\u001b[0;34m\u001b[0m\u001b[0m\n\u001b[0m\u001b[1;32m   4434\u001b[0m \u001b[0;34m\u001b[0m\u001b[0m\n\u001b[1;32m   4435\u001b[0m     def _reduce(\n",
            "\u001b[0;32m/usr/local/lib/python3.9/dist-packages/pandas/core/apply.py\u001b[0m in \u001b[0;36mapply\u001b[0;34m(self)\u001b[0m\n\u001b[1;32m   1086\u001b[0m             \u001b[0;32mreturn\u001b[0m \u001b[0mself\u001b[0m\u001b[0;34m.\u001b[0m\u001b[0mapply_str\u001b[0m\u001b[0;34m(\u001b[0m\u001b[0;34m)\u001b[0m\u001b[0;34m\u001b[0m\u001b[0;34m\u001b[0m\u001b[0m\n\u001b[1;32m   1087\u001b[0m \u001b[0;34m\u001b[0m\u001b[0m\n\u001b[0;32m-> 1088\u001b[0;31m         \u001b[0;32mreturn\u001b[0m \u001b[0mself\u001b[0m\u001b[0;34m.\u001b[0m\u001b[0mapply_standard\u001b[0m\u001b[0;34m(\u001b[0m\u001b[0;34m)\u001b[0m\u001b[0;34m\u001b[0m\u001b[0;34m\u001b[0m\u001b[0m\n\u001b[0m\u001b[1;32m   1089\u001b[0m \u001b[0;34m\u001b[0m\u001b[0m\n\u001b[1;32m   1090\u001b[0m     \u001b[0;32mdef\u001b[0m \u001b[0magg\u001b[0m\u001b[0;34m(\u001b[0m\u001b[0mself\u001b[0m\u001b[0;34m)\u001b[0m\u001b[0;34m:\u001b[0m\u001b[0;34m\u001b[0m\u001b[0;34m\u001b[0m\u001b[0m\n",
            "\u001b[0;32m/usr/local/lib/python3.9/dist-packages/pandas/core/apply.py\u001b[0m in \u001b[0;36mapply_standard\u001b[0;34m(self)\u001b[0m\n\u001b[1;32m   1141\u001b[0m                 \u001b[0;31m# List[Union[Callable[..., Any], str]]]]]\"; expected\u001b[0m\u001b[0;34m\u001b[0m\u001b[0;34m\u001b[0m\u001b[0m\n\u001b[1;32m   1142\u001b[0m                 \u001b[0;31m# \"Callable[[Any], Any]\"\u001b[0m\u001b[0;34m\u001b[0m\u001b[0;34m\u001b[0m\u001b[0m\n\u001b[0;32m-> 1143\u001b[0;31m                 mapped = lib.map_infer(\n\u001b[0m\u001b[1;32m   1144\u001b[0m                     \u001b[0mvalues\u001b[0m\u001b[0;34m,\u001b[0m\u001b[0;34m\u001b[0m\u001b[0;34m\u001b[0m\u001b[0m\n\u001b[1;32m   1145\u001b[0m                     \u001b[0mf\u001b[0m\u001b[0;34m,\u001b[0m  \u001b[0;31m# type: ignore[arg-type]\u001b[0m\u001b[0;34m\u001b[0m\u001b[0;34m\u001b[0m\u001b[0m\n",
            "\u001b[0;32m/usr/local/lib/python3.9/dist-packages/pandas/_libs/lib.pyx\u001b[0m in \u001b[0;36mpandas._libs.lib.map_infer\u001b[0;34m()\u001b[0m\n",
            "\u001b[0;32m<ipython-input-6-97b1c45fcee9>\u001b[0m in \u001b[0;36mclean\u001b[0;34m(tweet)\u001b[0m\n\u001b[1;32m      6\u001b[0m     \u001b[0mtweet\u001b[0m \u001b[0;34m=\u001b[0m \u001b[0mtokenize\u001b[0m\u001b[0;34m(\u001b[0m\u001b[0mtweet\u001b[0m\u001b[0;34m)\u001b[0m\u001b[0;34m\u001b[0m\u001b[0;34m\u001b[0m\u001b[0m\n\u001b[1;32m      7\u001b[0m     \u001b[0mtweet\u001b[0m \u001b[0;34m=\u001b[0m \u001b[0mremove_rt\u001b[0m\u001b[0;34m(\u001b[0m\u001b[0mtweet\u001b[0m\u001b[0;34m)\u001b[0m\u001b[0;34m\u001b[0m\u001b[0;34m\u001b[0m\u001b[0m\n\u001b[0;32m----> 8\u001b[0;31m     \u001b[0mtweet\u001b[0m \u001b[0;34m=\u001b[0m \u001b[0mremove_stopwords\u001b[0m\u001b[0;34m(\u001b[0m\u001b[0mtweet\u001b[0m\u001b[0;34m)\u001b[0m\u001b[0;34m\u001b[0m\u001b[0;34m\u001b[0m\u001b[0m\n\u001b[0m\u001b[1;32m      9\u001b[0m     \u001b[0mtweet\u001b[0m \u001b[0;34m=\u001b[0m \u001b[0mremove_nonAlphaNum\u001b[0m\u001b[0;34m(\u001b[0m\u001b[0mtweet\u001b[0m\u001b[0;34m)\u001b[0m\u001b[0;34m\u001b[0m\u001b[0;34m\u001b[0m\u001b[0m\n\u001b[1;32m     10\u001b[0m     \u001b[0;32mreturn\u001b[0m \u001b[0mtweet\u001b[0m\u001b[0;34m\u001b[0m\u001b[0;34m\u001b[0m\u001b[0m\n",
            "\u001b[0;32m<ipython-input-5-a69e9184aa49>\u001b[0m in \u001b[0;36mremove_stopwords\u001b[0;34m(tweet)\u001b[0m\n\u001b[1;32m     33\u001b[0m \u001b[0;32mdef\u001b[0m \u001b[0mremove_stopwords\u001b[0m\u001b[0;34m(\u001b[0m\u001b[0mtweet\u001b[0m\u001b[0;34m)\u001b[0m\u001b[0;34m:\u001b[0m\u001b[0;34m\u001b[0m\u001b[0;34m\u001b[0m\u001b[0m\n\u001b[1;32m     34\u001b[0m     \u001b[0mwords\u001b[0m \u001b[0;34m=\u001b[0m \u001b[0mtweet\u001b[0m\u001b[0;34m.\u001b[0m\u001b[0msplit\u001b[0m\u001b[0;34m(\u001b[0m\u001b[0;34m)\u001b[0m\u001b[0;34m\u001b[0m\u001b[0;34m\u001b[0m\u001b[0m\n\u001b[0;32m---> 35\u001b[0;31m     \u001b[0mclean_tweet\u001b[0m \u001b[0;34m=\u001b[0m \u001b[0;34m[\u001b[0m\u001b[0mword\u001b[0m \u001b[0;32mfor\u001b[0m \u001b[0mword\u001b[0m \u001b[0;32min\u001b[0m \u001b[0mwords\u001b[0m \u001b[0;32mif\u001b[0m \u001b[0mword\u001b[0m \u001b[0;32mnot\u001b[0m \u001b[0;32min\u001b[0m \u001b[0mstopwords\u001b[0m\u001b[0;34m.\u001b[0m\u001b[0mwords\u001b[0m\u001b[0;34m(\u001b[0m\u001b[0;34m'english'\u001b[0m\u001b[0;34m)\u001b[0m\u001b[0;34m]\u001b[0m\u001b[0;34m\u001b[0m\u001b[0;34m\u001b[0m\u001b[0m\n\u001b[0m\u001b[1;32m     36\u001b[0m     \u001b[0;32mreturn\u001b[0m \u001b[0;34m' '\u001b[0m\u001b[0;34m.\u001b[0m\u001b[0mjoin\u001b[0m\u001b[0;34m(\u001b[0m\u001b[0mclean_tweet\u001b[0m\u001b[0;34m)\u001b[0m\u001b[0;34m\u001b[0m\u001b[0;34m\u001b[0m\u001b[0m\n\u001b[1;32m     37\u001b[0m \u001b[0;34m\u001b[0m\u001b[0m\n",
            "\u001b[0;32m<ipython-input-5-a69e9184aa49>\u001b[0m in \u001b[0;36m<listcomp>\u001b[0;34m(.0)\u001b[0m\n\u001b[1;32m     33\u001b[0m \u001b[0;32mdef\u001b[0m \u001b[0mremove_stopwords\u001b[0m\u001b[0;34m(\u001b[0m\u001b[0mtweet\u001b[0m\u001b[0;34m)\u001b[0m\u001b[0;34m:\u001b[0m\u001b[0;34m\u001b[0m\u001b[0;34m\u001b[0m\u001b[0m\n\u001b[1;32m     34\u001b[0m     \u001b[0mwords\u001b[0m \u001b[0;34m=\u001b[0m \u001b[0mtweet\u001b[0m\u001b[0;34m.\u001b[0m\u001b[0msplit\u001b[0m\u001b[0;34m(\u001b[0m\u001b[0;34m)\u001b[0m\u001b[0;34m\u001b[0m\u001b[0;34m\u001b[0m\u001b[0m\n\u001b[0;32m---> 35\u001b[0;31m     \u001b[0mclean_tweet\u001b[0m \u001b[0;34m=\u001b[0m \u001b[0;34m[\u001b[0m\u001b[0mword\u001b[0m \u001b[0;32mfor\u001b[0m \u001b[0mword\u001b[0m \u001b[0;32min\u001b[0m \u001b[0mwords\u001b[0m \u001b[0;32mif\u001b[0m \u001b[0mword\u001b[0m \u001b[0;32mnot\u001b[0m \u001b[0;32min\u001b[0m \u001b[0mstopwords\u001b[0m\u001b[0;34m.\u001b[0m\u001b[0mwords\u001b[0m\u001b[0;34m(\u001b[0m\u001b[0;34m'english'\u001b[0m\u001b[0;34m)\u001b[0m\u001b[0;34m]\u001b[0m\u001b[0;34m\u001b[0m\u001b[0;34m\u001b[0m\u001b[0m\n\u001b[0m\u001b[1;32m     36\u001b[0m     \u001b[0;32mreturn\u001b[0m \u001b[0;34m' '\u001b[0m\u001b[0;34m.\u001b[0m\u001b[0mjoin\u001b[0m\u001b[0;34m(\u001b[0m\u001b[0mclean_tweet\u001b[0m\u001b[0;34m)\u001b[0m\u001b[0;34m\u001b[0m\u001b[0;34m\u001b[0m\u001b[0m\n\u001b[1;32m     37\u001b[0m \u001b[0;34m\u001b[0m\u001b[0m\n",
            "\u001b[0;32m/usr/local/lib/python3.9/dist-packages/nltk/corpus/reader/wordlist.py\u001b[0m in \u001b[0;36mwords\u001b[0;34m(self, fileids, ignore_lines_startswith)\u001b[0m\n\u001b[1;32m     19\u001b[0m         return [\n\u001b[1;32m     20\u001b[0m             \u001b[0mline\u001b[0m\u001b[0;34m\u001b[0m\u001b[0;34m\u001b[0m\u001b[0m\n\u001b[0;32m---> 21\u001b[0;31m             \u001b[0;32mfor\u001b[0m \u001b[0mline\u001b[0m \u001b[0;32min\u001b[0m \u001b[0mline_tokenize\u001b[0m\u001b[0;34m(\u001b[0m\u001b[0mself\u001b[0m\u001b[0;34m.\u001b[0m\u001b[0mraw\u001b[0m\u001b[0;34m(\u001b[0m\u001b[0mfileids\u001b[0m\u001b[0;34m)\u001b[0m\u001b[0;34m)\u001b[0m\u001b[0;34m\u001b[0m\u001b[0;34m\u001b[0m\u001b[0m\n\u001b[0m\u001b[1;32m     22\u001b[0m             \u001b[0;32mif\u001b[0m \u001b[0;32mnot\u001b[0m \u001b[0mline\u001b[0m\u001b[0;34m.\u001b[0m\u001b[0mstartswith\u001b[0m\u001b[0;34m(\u001b[0m\u001b[0mignore_lines_startswith\u001b[0m\u001b[0;34m)\u001b[0m\u001b[0;34m\u001b[0m\u001b[0;34m\u001b[0m\u001b[0m\n\u001b[1;32m     23\u001b[0m         ]\n",
            "\u001b[0;32m/usr/local/lib/python3.9/dist-packages/nltk/corpus/reader/api.py\u001b[0m in \u001b[0;36mraw\u001b[0;34m(self, fileids)\u001b[0m\n\u001b[1;32m    217\u001b[0m         \u001b[0;32mfor\u001b[0m \u001b[0mf\u001b[0m \u001b[0;32min\u001b[0m \u001b[0mfileids\u001b[0m\u001b[0;34m:\u001b[0m\u001b[0;34m\u001b[0m\u001b[0;34m\u001b[0m\u001b[0m\n\u001b[1;32m    218\u001b[0m             \u001b[0;32mwith\u001b[0m \u001b[0mself\u001b[0m\u001b[0;34m.\u001b[0m\u001b[0mopen\u001b[0m\u001b[0;34m(\u001b[0m\u001b[0mf\u001b[0m\u001b[0;34m)\u001b[0m \u001b[0;32mas\u001b[0m \u001b[0mfp\u001b[0m\u001b[0;34m:\u001b[0m\u001b[0;34m\u001b[0m\u001b[0;34m\u001b[0m\u001b[0m\n\u001b[0;32m--> 219\u001b[0;31m                 \u001b[0mcontents\u001b[0m\u001b[0;34m.\u001b[0m\u001b[0mappend\u001b[0m\u001b[0;34m(\u001b[0m\u001b[0mfp\u001b[0m\u001b[0;34m.\u001b[0m\u001b[0mread\u001b[0m\u001b[0;34m(\u001b[0m\u001b[0;34m)\u001b[0m\u001b[0;34m)\u001b[0m\u001b[0;34m\u001b[0m\u001b[0;34m\u001b[0m\u001b[0m\n\u001b[0m\u001b[1;32m    220\u001b[0m         \u001b[0;32mreturn\u001b[0m \u001b[0mconcat\u001b[0m\u001b[0;34m(\u001b[0m\u001b[0mcontents\u001b[0m\u001b[0;34m)\u001b[0m\u001b[0;34m\u001b[0m\u001b[0;34m\u001b[0m\u001b[0m\n\u001b[1;32m    221\u001b[0m \u001b[0;34m\u001b[0m\u001b[0m\n",
            "\u001b[0;31mKeyboardInterrupt\u001b[0m: "
          ]
        }
      ]
    },
    {
      "cell_type": "markdown",
      "source": [
        "The cleaned csv file can be found here:https://utoronto-my.sharepoint.com/:x:/g/personal/yew_wang_mail_utoronto_ca/EdUeyO2A3alKlxrj8RxRMvMBqZKkc1bv6cghXCc68Jtwdg?e=uYOgCA"
      ],
      "metadata": {
        "id": "kYvcY0tu3JLZ"
      }
    },
    {
      "cell_type": "code",
      "source": [
        "#Save cleaned dataset to csv and load in later step to save processing time\n",
        "#df.to_csv('/cleaned_sentiment_analysis.csv', index=False)\n",
        "cleaned_df = pd.read_csv('cleaned_sentiment_analysis.csv')"
      ],
      "metadata": {
        "id": "alZS1mjX7P5v"
      },
      "execution_count": null,
      "outputs": []
    },
    {
      "cell_type": "code",
      "source": [
        "cleaned_df.dropna(inplace=True)"
      ],
      "metadata": {
        "id": "AMuj5Id2X5Bv"
      },
      "execution_count": null,
      "outputs": []
    },
    {
      "cell_type": "code",
      "source": [
        "cleaned_df"
      ],
      "metadata": {
        "id": "zCTByNDdKZcJ",
        "outputId": "aa4b2219-26d9-4c26-fc8a-7ae6ec6e56e5",
        "colab": {
          "base_uri": "https://localhost:8080/",
          "height": 641
        }
      },
      "execution_count": null,
      "outputs": [
        {
          "output_type": "execute_result",
          "data": {
            "text/plain": [
              "                        ID                                               text  \\\n",
              "0       768098000000000000  Josh Jenkins is looking forward to TAB Breeder...   \n",
              "1       768098000000000000  RT @MianUsmanJaved: Congratulations Pakistan o...   \n",
              "2       768098000000000000  RT @PEPalerts: This September, @YESmag is taki...   \n",
              "3       768098000000000000  RT @david_gaibis: Newly painted walls, thanks ...   \n",
              "4       768098000000000000  RT @CedricFeschotte: Excited to announce: as o...   \n",
              "...                    ...                                                ...   \n",
              "550386  804617000000000000  @goddesses_o I can't stop watching her...mm. M...   \n",
              "550387  804618000000000000  Poor old Tom Odell doesn't look like he would ...   \n",
              "550388  804618000000000000  #antsmasher I smashed  7 ants in this awesome ...   \n",
              "550389  804618000000000000  @LizHudston @KymWyllie @Evasmiless @meanBok @l...   \n",
              "550390  804619000000000000  Bixbeat Mixtape Vol.2 is here with great artis...   \n",
              "\n",
              "        label                                            Cleaned  \n",
              "0           1  josh jenkins looking forward tab breeders crow...  \n",
              "1           1     congratulations pakistan becoming world odds    \n",
              "2           1   september  taking maine mendoza  surprise tha...  \n",
              "3           1   newly painted walls  thanks million custodial...  \n",
              "4           1   excited announce  july 2017 feschotte lab rel...  \n",
              "...       ...                                                ...  \n",
              "550386      0                             ca nt stop watching     \n",
              "550387      0  poor old tom odell nt look like would know wro...  \n",
              "550388      1              smashed 7 ants awesome game    hjfjfi  \n",
              "550389      1                            morning girls wonderful  \n",
              "550390      1  bixbeat mixtape vol2 great artiste join moveme...  \n",
              "\n",
              "[550093 rows x 4 columns]"
            ],
            "text/html": [
              "\n",
              "  <div id=\"df-98cde15c-117e-4713-a0fe-68ecabe05ea9\">\n",
              "    <div class=\"colab-df-container\">\n",
              "      <div>\n",
              "<style scoped>\n",
              "    .dataframe tbody tr th:only-of-type {\n",
              "        vertical-align: middle;\n",
              "    }\n",
              "\n",
              "    .dataframe tbody tr th {\n",
              "        vertical-align: top;\n",
              "    }\n",
              "\n",
              "    .dataframe thead th {\n",
              "        text-align: right;\n",
              "    }\n",
              "</style>\n",
              "<table border=\"1\" class=\"dataframe\">\n",
              "  <thead>\n",
              "    <tr style=\"text-align: right;\">\n",
              "      <th></th>\n",
              "      <th>ID</th>\n",
              "      <th>text</th>\n",
              "      <th>label</th>\n",
              "      <th>Cleaned</th>\n",
              "    </tr>\n",
              "  </thead>\n",
              "  <tbody>\n",
              "    <tr>\n",
              "      <th>0</th>\n",
              "      <td>768098000000000000</td>\n",
              "      <td>Josh Jenkins is looking forward to TAB Breeder...</td>\n",
              "      <td>1</td>\n",
              "      <td>josh jenkins looking forward tab breeders crow...</td>\n",
              "    </tr>\n",
              "    <tr>\n",
              "      <th>1</th>\n",
              "      <td>768098000000000000</td>\n",
              "      <td>RT @MianUsmanJaved: Congratulations Pakistan o...</td>\n",
              "      <td>1</td>\n",
              "      <td>congratulations pakistan becoming world odds</td>\n",
              "    </tr>\n",
              "    <tr>\n",
              "      <th>2</th>\n",
              "      <td>768098000000000000</td>\n",
              "      <td>RT @PEPalerts: This September, @YESmag is taki...</td>\n",
              "      <td>1</td>\n",
              "      <td>september  taking maine mendoza  surprise tha...</td>\n",
              "    </tr>\n",
              "    <tr>\n",
              "      <th>3</th>\n",
              "      <td>768098000000000000</td>\n",
              "      <td>RT @david_gaibis: Newly painted walls, thanks ...</td>\n",
              "      <td>1</td>\n",
              "      <td>newly painted walls  thanks million custodial...</td>\n",
              "    </tr>\n",
              "    <tr>\n",
              "      <th>4</th>\n",
              "      <td>768098000000000000</td>\n",
              "      <td>RT @CedricFeschotte: Excited to announce: as o...</td>\n",
              "      <td>1</td>\n",
              "      <td>excited announce  july 2017 feschotte lab rel...</td>\n",
              "    </tr>\n",
              "    <tr>\n",
              "      <th>...</th>\n",
              "      <td>...</td>\n",
              "      <td>...</td>\n",
              "      <td>...</td>\n",
              "      <td>...</td>\n",
              "    </tr>\n",
              "    <tr>\n",
              "      <th>550386</th>\n",
              "      <td>804617000000000000</td>\n",
              "      <td>@goddesses_o I can't stop watching her...mm. M...</td>\n",
              "      <td>0</td>\n",
              "      <td>ca nt stop watching</td>\n",
              "    </tr>\n",
              "    <tr>\n",
              "      <th>550387</th>\n",
              "      <td>804618000000000000</td>\n",
              "      <td>Poor old Tom Odell doesn't look like he would ...</td>\n",
              "      <td>0</td>\n",
              "      <td>poor old tom odell nt look like would know wro...</td>\n",
              "    </tr>\n",
              "    <tr>\n",
              "      <th>550388</th>\n",
              "      <td>804618000000000000</td>\n",
              "      <td>#antsmasher I smashed  7 ants in this awesome ...</td>\n",
              "      <td>1</td>\n",
              "      <td>smashed 7 ants awesome game    hjfjfi</td>\n",
              "    </tr>\n",
              "    <tr>\n",
              "      <th>550389</th>\n",
              "      <td>804618000000000000</td>\n",
              "      <td>@LizHudston @KymWyllie @Evasmiless @meanBok @l...</td>\n",
              "      <td>1</td>\n",
              "      <td>morning girls wonderful</td>\n",
              "    </tr>\n",
              "    <tr>\n",
              "      <th>550390</th>\n",
              "      <td>804619000000000000</td>\n",
              "      <td>Bixbeat Mixtape Vol.2 is here with great artis...</td>\n",
              "      <td>1</td>\n",
              "      <td>bixbeat mixtape vol2 great artiste join moveme...</td>\n",
              "    </tr>\n",
              "  </tbody>\n",
              "</table>\n",
              "<p>550093 rows × 4 columns</p>\n",
              "</div>\n",
              "      <button class=\"colab-df-convert\" onclick=\"convertToInteractive('df-98cde15c-117e-4713-a0fe-68ecabe05ea9')\"\n",
              "              title=\"Convert this dataframe to an interactive table.\"\n",
              "              style=\"display:none;\">\n",
              "        \n",
              "  <svg xmlns=\"http://www.w3.org/2000/svg\" height=\"24px\"viewBox=\"0 0 24 24\"\n",
              "       width=\"24px\">\n",
              "    <path d=\"M0 0h24v24H0V0z\" fill=\"none\"/>\n",
              "    <path d=\"M18.56 5.44l.94 2.06.94-2.06 2.06-.94-2.06-.94-.94-2.06-.94 2.06-2.06.94zm-11 1L8.5 8.5l.94-2.06 2.06-.94-2.06-.94L8.5 2.5l-.94 2.06-2.06.94zm10 10l.94 2.06.94-2.06 2.06-.94-2.06-.94-.94-2.06-.94 2.06-2.06.94z\"/><path d=\"M17.41 7.96l-1.37-1.37c-.4-.4-.92-.59-1.43-.59-.52 0-1.04.2-1.43.59L10.3 9.45l-7.72 7.72c-.78.78-.78 2.05 0 2.83L4 21.41c.39.39.9.59 1.41.59.51 0 1.02-.2 1.41-.59l7.78-7.78 2.81-2.81c.8-.78.8-2.07 0-2.86zM5.41 20L4 18.59l7.72-7.72 1.47 1.35L5.41 20z\"/>\n",
              "  </svg>\n",
              "      </button>\n",
              "      \n",
              "  <style>\n",
              "    .colab-df-container {\n",
              "      display:flex;\n",
              "      flex-wrap:wrap;\n",
              "      gap: 12px;\n",
              "    }\n",
              "\n",
              "    .colab-df-convert {\n",
              "      background-color: #E8F0FE;\n",
              "      border: none;\n",
              "      border-radius: 50%;\n",
              "      cursor: pointer;\n",
              "      display: none;\n",
              "      fill: #1967D2;\n",
              "      height: 32px;\n",
              "      padding: 0 0 0 0;\n",
              "      width: 32px;\n",
              "    }\n",
              "\n",
              "    .colab-df-convert:hover {\n",
              "      background-color: #E2EBFA;\n",
              "      box-shadow: 0px 1px 2px rgba(60, 64, 67, 0.3), 0px 1px 3px 1px rgba(60, 64, 67, 0.15);\n",
              "      fill: #174EA6;\n",
              "    }\n",
              "\n",
              "    [theme=dark] .colab-df-convert {\n",
              "      background-color: #3B4455;\n",
              "      fill: #D2E3FC;\n",
              "    }\n",
              "\n",
              "    [theme=dark] .colab-df-convert:hover {\n",
              "      background-color: #434B5C;\n",
              "      box-shadow: 0px 1px 3px 1px rgba(0, 0, 0, 0.15);\n",
              "      filter: drop-shadow(0px 1px 2px rgba(0, 0, 0, 0.3));\n",
              "      fill: #FFFFFF;\n",
              "    }\n",
              "  </style>\n",
              "\n",
              "      <script>\n",
              "        const buttonEl =\n",
              "          document.querySelector('#df-98cde15c-117e-4713-a0fe-68ecabe05ea9 button.colab-df-convert');\n",
              "        buttonEl.style.display =\n",
              "          google.colab.kernel.accessAllowed ? 'block' : 'none';\n",
              "\n",
              "        async function convertToInteractive(key) {\n",
              "          const element = document.querySelector('#df-98cde15c-117e-4713-a0fe-68ecabe05ea9');\n",
              "          const dataTable =\n",
              "            await google.colab.kernel.invokeFunction('convertToInteractive',\n",
              "                                                     [key], {});\n",
              "          if (!dataTable) return;\n",
              "\n",
              "          const docLinkHtml = 'Like what you see? Visit the ' +\n",
              "            '<a target=\"_blank\" href=https://colab.research.google.com/notebooks/data_table.ipynb>data table notebook</a>'\n",
              "            + ' to learn more about interactive tables.';\n",
              "          element.innerHTML = '';\n",
              "          dataTable['output_type'] = 'display_data';\n",
              "          await google.colab.output.renderOutput(dataTable, element);\n",
              "          const docLink = document.createElement('div');\n",
              "          docLink.innerHTML = docLinkHtml;\n",
              "          element.appendChild(docLink);\n",
              "        }\n",
              "      </script>\n",
              "    </div>\n",
              "  </div>\n",
              "  "
            ]
          },
          "metadata": {},
          "execution_count": 11
        }
      ]
    },
    {
      "cell_type": "code",
      "source": [
        "cleaned_df['Cleaned'].dtype()"
      ],
      "metadata": {
        "id": "Bnzk2MK3L4pi"
      },
      "execution_count": null,
      "outputs": []
    },
    {
      "cell_type": "code",
      "source": [
        "#Split the dataset into train-test and apply the TFIDF vectorization on training dataset\n",
        "X_train, X_test, y_train, y_test = train_test_split(cleaned_df['Cleaned'], cleaned_df['label'], test_size=0.3, random_state=42)\n",
        "# apply tf-idf and get the top 200 features\n",
        "tfidf = TfidfVectorizer(lowercase=True, max_features = 200)\n",
        "X_train_idf = tfidf.fit_transform(X_train) # only fit the training data    \n",
        "X_test_idf = tfidf.transform(X_test)"
      ],
      "metadata": {
        "id": "WmqTxfzcXjcE"
      },
      "execution_count": null,
      "outputs": []
    },
    {
      "cell_type": "code",
      "source": [
        "X_train_idf = pd.DataFrame(X_train_idf.todense(), columns = tfidf.get_feature_names_out())\n",
        "X_test_idf = pd.DataFrame(X_test_idf.todense(), columns = tfidf.get_feature_names_out())\n",
        "X_train_idf.head(5)"
      ],
      "metadata": {
        "id": "pxRxImXVX-Kq"
      },
      "execution_count": null,
      "outputs": []
    },
    {
      "cell_type": "code",
      "source": [
        "def plot_roc_curve(y_true, y_score):\n",
        "    # Compute false positive rate, true positive rate, and thresholds\n",
        "    fpr, tpr, thresholds = roc_curve(y_true, y_score)\n",
        "    \n",
        "    # Compute area under the ROC curve\n",
        "    roc_auc = auc(fpr, tpr)\n",
        "    plt.figure(figsize=(8, 8))\n",
        "    # Plot ROC curve\n",
        "    plt.plot(fpr, tpr, color='darkorange', lw=2, label='ROC curve (AUC = %0.2f)' % roc_auc)\n",
        "    plt.plot([0, 1], [0, 1], color='navy', lw=2, linestyle='--')\n",
        "    plt.xlim([0.0, 1.0])\n",
        "    plt.ylim([0.0, 1.05])\n",
        "    plt.xlabel('False Positive Rate')\n",
        "    plt.ylabel('True Positive Rate')\n",
        "    plt.title('Receiver operating characteristic curve')\n",
        "    plt.legend(loc=\"lower right\")\n",
        "    plt.show()"
      ],
      "metadata": {
        "id": "AT4R4Nv1KmT4"
      },
      "execution_count": null,
      "outputs": []
    },
    {
      "cell_type": "markdown",
      "source": [
        "## Logistic Regression"
      ],
      "metadata": {
        "id": "6EPijs8-kBJQ"
      }
    },
    {
      "cell_type": "code",
      "source": [
        "clf = LogisticRegression().fit(X_train_idf, y_train)\n",
        "# predict on train and test set\n",
        "y_train_predict = clf.predict(X_train_idf)\n",
        "y_test_predict = clf.predict(X_test_idf)\n",
        "# calculate train and test accuracy\n",
        "train_accuracy = accuracy_score(y_train, y_train_predict)\n",
        "test_accuracy = accuracy_score(y_test, y_test_predict)"
      ],
      "metadata": {
        "id": "d3YXcOljBtor"
      },
      "execution_count": null,
      "outputs": []
    },
    {
      "cell_type": "code",
      "source": [
        "print(train_accuracy, test_accuracy)"
      ],
      "metadata": {
        "id": "XOCe1pNWmBy7"
      },
      "execution_count": null,
      "outputs": []
    },
    {
      "cell_type": "markdown",
      "source": [
        "With gridsearchCV and Cross-Validation"
      ],
      "metadata": {
        "id": "qwV4G9hA77at"
      }
    },
    {
      "cell_type": "code",
      "source": [
        "#All the gridsearch cells should only be run once\n",
        "'''\n",
        "parameters = {'C':[0.01, 0.1, 1, 10, 100], \n",
        "              'solver':('liblinear','lbfgs', 'newton-cg'),\n",
        "              'penalty':('none',  'l2')}\n",
        "\n",
        "model = LogisticRegression()\n",
        "cv = GridSearchCV(model, parameters, cv=5, n_jobs=-1)\n",
        "cv.fit(X_train_idf, y_train)\n",
        "\n",
        "print('Best cross-validation score is :\\n',cv.best_score_)\n",
        "print('Best parameter:\\n', cv.best_params_)\n",
        "'''"
      ],
      "metadata": {
        "id": "BEKhII6P3tMN"
      },
      "execution_count": null,
      "outputs": []
    },
    {
      "cell_type": "code",
      "source": [
        "# {'C': 10, 'penalty': 'l2', 'solver': 'newton-cg'} was determined to be the best hyperparameter set\n",
        "bestLOGmodel = LogisticRegression(C = 10, penalty= 'l2', solver = 'newton-cg')\n",
        "bestLOGmodel.fit(X_train_idf, y_train)\n",
        "y_pred_LOG = bestLOGmodel.predict(X_test_idf)\n",
        "LOG_f1 = f1_score(y_test, y_pred_LOG)\n",
        "LOG_acc = accuracy_score(y_test, y_pred_LOG)\n",
        "print(\"F1 Score Logistic Regression:\",LOG_f1)\n",
        "print(\"Accuracy Score Logistic Regression:\",LOG_acc)"
      ],
      "metadata": {
        "id": "wB_7pQH44r1N"
      },
      "execution_count": null,
      "outputs": []
    },
    {
      "cell_type": "code",
      "source": [
        "y_test_prob_LOG = bestLOGmodel.predict_proba(X_test_idf)\n",
        "plot_roc_curve(y_test, y_test_prob_LOG[:, 1])"
      ],
      "metadata": {
        "id": "gUsrGjKUu8a_"
      },
      "execution_count": null,
      "outputs": []
    },
    {
      "cell_type": "markdown",
      "source": [
        "## Naive Bayes"
      ],
      "metadata": {
        "id": "K0j2sXYTuxCH"
      }
    },
    {
      "cell_type": "code",
      "source": [
        "clf = BernoulliNB().fit(X_train_idf, y_train)\n",
        "# predict on train and test set\n",
        "y_train_predict = clf.predict(X_train_idf)\n",
        "y_test_predict = clf.predict(X_test_idf)\n",
        "# calculate train and test accuracy\n",
        "train_accuracy = accuracy_score(y_train, y_train_predict)\n",
        "test_accuracy = accuracy_score(y_test, y_test_predict)\n",
        "test_f1 = f1_score(y_test, y_test_predict)\n",
        "print(\"F1 Score NB:\",test_f1)\n",
        "print(\"Accuracy Score NB:\",test_accuracy)"
      ],
      "metadata": {
        "id": "ttpMRkjjuwhw"
      },
      "execution_count": null,
      "outputs": []
    },
    {
      "cell_type": "code",
      "source": [
        "y_test_prob_NB = clf.predict_proba(X_test_idf)\n",
        "plot_roc_curve(y_test, y_test_prob_NB[:, 1])"
      ],
      "metadata": {
        "id": "7NmgQl19tqzI"
      },
      "execution_count": null,
      "outputs": []
    },
    {
      "cell_type": "markdown",
      "source": [
        "### SVM"
      ],
      "metadata": {
        "id": "sWzEfQW_DJpw"
      }
    },
    {
      "cell_type": "markdown",
      "source": [
        "With gridsearchCV and Cross-Validation"
      ],
      "metadata": {
        "id": "tqLBsniJC6ya"
      }
    },
    {
      "cell_type": "code",
      "source": [
        "#All the gridsearch cells should only be run once\n",
        "'''\n",
        "parameters = {'C':[0.001, 0.01, 0.1, 1, 10]}\n",
        "model = LinearSVC(random_state=0, tol=1e-5)\n",
        "cv = GridSearchCV(model, parameters, cv=5, n_jobs=-1)\n",
        "cv.fit(X_train_idf, y_train)\n",
        "\n",
        "print('The best cross-validation score: ',cv.best_score_)\n",
        "print('The best parameter:', cv.best_params_)\n",
        "'''"
      ],
      "metadata": {
        "id": "Ogbf9jvTC7jd"
      },
      "execution_count": null,
      "outputs": []
    },
    {
      "cell_type": "code",
      "source": [
        "#C = 1 was the best hyper parameter\n",
        "bestSVMmodel = LinearSVC(random_state=0, tol=1e-5, C = 1)\n",
        "bestSVMmodel.fit(X_train_idf, y_train)\n",
        "y_pred_SVM = bestSVMmodel.predict(X_test_idf)\n",
        "SVM_f1 = f1_score(y_test, y_pred_SVM)\n",
        "SVM_acc = accuracy_score(y_test, y_pred_SVM)\n",
        "print(\"F1 Score SVM:\",SVM_f1)\n",
        "print(\"Accuracy Score SVM:\",SVM_acc)\n"
      ],
      "metadata": {
        "id": "dNzTZcg03ln3"
      },
      "execution_count": null,
      "outputs": []
    },
    {
      "cell_type": "code",
      "source": [
        "y_test_prob_SVM = bestSVMmodel._predict_proba_lr(X_test_idf)\n",
        "plot_roc_curve(y_test, y_test_prob_SVM[:, 1])"
      ],
      "metadata": {
        "id": "piX4oN-CtBI_"
      },
      "execution_count": null,
      "outputs": []
    },
    {
      "cell_type": "markdown",
      "source": [
        "### Random Forest"
      ],
      "metadata": {
        "id": "WTT9qxBgQOIP"
      }
    },
    {
      "cell_type": "code",
      "source": [
        "'''\n",
        "parameters = {'min_samples_split':[ 10, 15, 20],\n",
        "              'n_estimators':[50, 100, 200]}\n",
        "\n",
        "model = RandomForestClassifier( random_state=0)\n",
        "cv = GridSearchCV(model, parameters, cv=5, n_jobs=-1)\n",
        "cv.fit(X_train_idf, y_train)\n",
        "\n",
        "print('The best cross-validation score: ',cv.best_score_)\n",
        "print('The best parameter:', cv.best_params_)\n",
        "'''"
      ],
      "metadata": {
        "id": "4vKNYcyBPs0b"
      },
      "execution_count": null,
      "outputs": []
    },
    {
      "cell_type": "markdown",
      "source": [
        "Get accuracy and f1 socre on test set"
      ],
      "metadata": {
        "id": "xGljqHwO10UM"
      }
    },
    {
      "cell_type": "code",
      "source": [
        "#Using min sample split = 20 and n estimators = 200\n",
        "bestRFmodel = RandomForestClassifier(min_samples_split = 20, n_estimators= 200, random_state=0)\n",
        "bestRFmodel.fit(X_train_idf, y_train)\n",
        "y_pred_RF = bestRFmodel.predict(X_test_idf)\n",
        "RF_f1 = f1_score(y_test, y_pred_RF)\n",
        "RF_acc = accuracy_score(y_test, y_pred_RF)\n",
        "print(\"F1 Score Random Forest:\",RF_f1)\n",
        "print(\"Accuracy Score Random Forest:\",RF_acc)\n"
      ],
      "metadata": {
        "id": "8yYBaQfX1hgE"
      },
      "execution_count": null,
      "outputs": []
    },
    {
      "cell_type": "code",
      "source": [
        "y_test_prob_RF = bestRFmodel.predict_proba(X_test_idf)\n",
        "plot_roc_curve(y_test, y_test_prob_RF[:, 1])"
      ],
      "metadata": {
        "id": "9igJqIN2m68w"
      },
      "execution_count": null,
      "outputs": []
    },
    {
      "cell_type": "markdown",
      "source": [
        "Result Summary for part1"
      ],
      "metadata": {
        "id": "xXlJ2ks66GIU"
      }
    },
    {
      "cell_type": "code",
      "source": [
        "model_list = ['Logistic Regression', 'Naive Bayes', 'SVM', 'Random Forest']\n",
        "f1_list = [LOG_f1, test_f1, SVM_f1, RF_f1]\n",
        "acc_list = [LOG_acc, test_accuracy,SVM_acc, RF_acc]\n"
      ],
      "metadata": {
        "id": "vgLDdNcx6EIH"
      },
      "execution_count": null,
      "outputs": []
    },
    {
      "cell_type": "code",
      "source": [
        "result_df = pd.DataFrame({\n",
        "    'Model': model_list,\n",
        "    'F1 Score': f1_list,\n",
        "    'Accuracy': acc_list\n",
        "})\n",
        "result_df"
      ],
      "metadata": {
        "id": "rRYHbvem79zQ"
      },
      "execution_count": null,
      "outputs": []
    },
    {
      "cell_type": "markdown",
      "source": [
        "Based on F1 socre, Random Forest model with min_sample_split = 20, and 200 n_estimators performed the best, this model will be used in part 2."
      ],
      "metadata": {
        "id": "b0D2M9CL9sEO"
      }
    },
    {
      "cell_type": "markdown",
      "source": [
        "# Part 2"
      ],
      "metadata": {
        "id": "Pe0TKplc9815"
      }
    },
    {
      "cell_type": "markdown",
      "source": [
        "In this part, our group will use newsAPI to collect the descriptions of news articles involve keywords: \"russia\", \"ukraine\", and \"war\". Then use the trained model from part 1 to perform Sentiment_Analysis on news descriptions to evaluate if it will be labeled as positive or negative."
      ],
      "metadata": {
        "id": "EsavhMFRpXiX"
      }
    },
    {
      "cell_type": "code",
      "source": [
        "!pip install newsapi-python\n",
        "import pandas as pd\n",
        "from newsapi import NewsApiClient\n",
        "from collections import Counter\n",
        "import datetime"
      ],
      "metadata": {
        "id": "Q_hk7-rJ98lx"
      },
      "execution_count": null,
      "outputs": []
    },
    {
      "cell_type": "markdown",
      "source": [
        "*To save the api usage, the following cell should **only** be called when the sources or date needs to be modified. *"
      ],
      "metadata": {
        "id": "bZ4TiuvRvfLj"
      }
    },
    {
      "cell_type": "code",
      "source": [
        "# Initialize NewsAPI client\n",
        "newsapi = NewsApiClient(api_key='4678da4b69ee46599f1280355d700b2e')\n",
        "\n",
        "# Set query parameters\n",
        "query = 'russia AND ukraine AND war' #keywords\n",
        "language = 'en'\n",
        "today = datetime.date.today()\n",
        "from_date = (today - datetime.timedelta(days=25)).isoformat()\n",
        "\n",
        "aggregated_list = []\n",
        "list_of_news_sources = ['bbc-news','the-verge', 'abc-news','associated-press', 'bloomberg', 'business-insider', 'cbs-news', 'cnn',\n",
        "                        'fortune','fox-news','google-news','msnbc','politico', 'reuters','the-wall-street-journal','the-washington-post','time','usa-today','wired']\n",
        "# Retrieve articles\n",
        "for src in list_of_news_sources:\n",
        "  articles = newsapi.get_everything(q=query,\n",
        "                                    sources=src,\n",
        "                                    language=language,\n",
        "                                    from_param=from_date,\n",
        "                                    sort_by='relevancy')\n",
        "\n",
        "  # Extract description text from articles\n",
        "  descriptions = [article['description'] for article in articles['articles']]\n",
        "  aggregated_list.extend(descriptions)\n",
        "\n",
        "news_df = pd.DataFrame({\n",
        "    'description': aggregated_list,\n",
        "\n",
        "})\n",
        "news_df['description'] = news_df['description'].astype(str)\n",
        "news_df\n"
      ],
      "metadata": {
        "id": "5atrLYOv93ua"
      },
      "execution_count": null,
      "outputs": []
    },
    {
      "cell_type": "markdown",
      "source": [
        "The pre-processed news data should be loaded here in this step:"
      ],
      "metadata": {
        "id": "6bNBck7fvo_F"
      }
    },
    {
      "cell_type": "code",
      "source": [
        "#news_df.to_csv('/news_description.csv', index=False)\n",
        "news_df = pd.read_csv('news_description.csv')"
      ],
      "metadata": {
        "id": "IAKZD7ZNlBQp"
      },
      "execution_count": null,
      "outputs": []
    },
    {
      "cell_type": "code",
      "source": [
        "news_df"
      ],
      "metadata": {
        "id": "nWT80kuhSTys",
        "outputId": "d26d9b95-b11c-4d5a-a541-99d39568fd41",
        "colab": {
          "base_uri": "https://localhost:8080/",
          "height": 424
        }
      },
      "execution_count": null,
      "outputs": [
        {
          "output_type": "execute_result",
          "data": {
            "text/plain": [
              "                                            description\n",
              "0     The Russian ambassador said he wanted the UN t...\n",
              "1     Steve Rosenberg looks at why Vladimir Putin se...\n",
              "2     Both Ukraine and Russia have reported inflicti...\n",
              "3     Russia and China refused to condemn Moscow's i...\n",
              "4     The resolution is approved by 141 countries, w...\n",
              "...                                                 ...\n",
              "1282  Since Russia’s full-scale assault began, Ukrai...\n",
              "1283  Plus: The US Marshals disclose a “major” cyber...\n",
              "1284  Clearview AI is being used by the Ukrainian go...\n",
              "1285  Digital traces including social posts and sear...\n",
              "1286  A new State Department proposal asks other nat...\n",
              "\n",
              "[1287 rows x 1 columns]"
            ],
            "text/html": [
              "\n",
              "  <div id=\"df-5c4e1635-1e71-4366-a0e8-b44669333782\">\n",
              "    <div class=\"colab-df-container\">\n",
              "      <div>\n",
              "<style scoped>\n",
              "    .dataframe tbody tr th:only-of-type {\n",
              "        vertical-align: middle;\n",
              "    }\n",
              "\n",
              "    .dataframe tbody tr th {\n",
              "        vertical-align: top;\n",
              "    }\n",
              "\n",
              "    .dataframe thead th {\n",
              "        text-align: right;\n",
              "    }\n",
              "</style>\n",
              "<table border=\"1\" class=\"dataframe\">\n",
              "  <thead>\n",
              "    <tr style=\"text-align: right;\">\n",
              "      <th></th>\n",
              "      <th>description</th>\n",
              "    </tr>\n",
              "  </thead>\n",
              "  <tbody>\n",
              "    <tr>\n",
              "      <th>0</th>\n",
              "      <td>The Russian ambassador said he wanted the UN t...</td>\n",
              "    </tr>\n",
              "    <tr>\n",
              "      <th>1</th>\n",
              "      <td>Steve Rosenberg looks at why Vladimir Putin se...</td>\n",
              "    </tr>\n",
              "    <tr>\n",
              "      <th>2</th>\n",
              "      <td>Both Ukraine and Russia have reported inflicti...</td>\n",
              "    </tr>\n",
              "    <tr>\n",
              "      <th>3</th>\n",
              "      <td>Russia and China refused to condemn Moscow's i...</td>\n",
              "    </tr>\n",
              "    <tr>\n",
              "      <th>4</th>\n",
              "      <td>The resolution is approved by 141 countries, w...</td>\n",
              "    </tr>\n",
              "    <tr>\n",
              "      <th>...</th>\n",
              "      <td>...</td>\n",
              "    </tr>\n",
              "    <tr>\n",
              "      <th>1282</th>\n",
              "      <td>Since Russia’s full-scale assault began, Ukrai...</td>\n",
              "    </tr>\n",
              "    <tr>\n",
              "      <th>1283</th>\n",
              "      <td>Plus: The US Marshals disclose a “major” cyber...</td>\n",
              "    </tr>\n",
              "    <tr>\n",
              "      <th>1284</th>\n",
              "      <td>Clearview AI is being used by the Ukrainian go...</td>\n",
              "    </tr>\n",
              "    <tr>\n",
              "      <th>1285</th>\n",
              "      <td>Digital traces including social posts and sear...</td>\n",
              "    </tr>\n",
              "    <tr>\n",
              "      <th>1286</th>\n",
              "      <td>A new State Department proposal asks other nat...</td>\n",
              "    </tr>\n",
              "  </tbody>\n",
              "</table>\n",
              "<p>1287 rows × 1 columns</p>\n",
              "</div>\n",
              "      <button class=\"colab-df-convert\" onclick=\"convertToInteractive('df-5c4e1635-1e71-4366-a0e8-b44669333782')\"\n",
              "              title=\"Convert this dataframe to an interactive table.\"\n",
              "              style=\"display:none;\">\n",
              "        \n",
              "  <svg xmlns=\"http://www.w3.org/2000/svg\" height=\"24px\"viewBox=\"0 0 24 24\"\n",
              "       width=\"24px\">\n",
              "    <path d=\"M0 0h24v24H0V0z\" fill=\"none\"/>\n",
              "    <path d=\"M18.56 5.44l.94 2.06.94-2.06 2.06-.94-2.06-.94-.94-2.06-.94 2.06-2.06.94zm-11 1L8.5 8.5l.94-2.06 2.06-.94-2.06-.94L8.5 2.5l-.94 2.06-2.06.94zm10 10l.94 2.06.94-2.06 2.06-.94-2.06-.94-.94-2.06-.94 2.06-2.06.94z\"/><path d=\"M17.41 7.96l-1.37-1.37c-.4-.4-.92-.59-1.43-.59-.52 0-1.04.2-1.43.59L10.3 9.45l-7.72 7.72c-.78.78-.78 2.05 0 2.83L4 21.41c.39.39.9.59 1.41.59.51 0 1.02-.2 1.41-.59l7.78-7.78 2.81-2.81c.8-.78.8-2.07 0-2.86zM5.41 20L4 18.59l7.72-7.72 1.47 1.35L5.41 20z\"/>\n",
              "  </svg>\n",
              "      </button>\n",
              "      \n",
              "  <style>\n",
              "    .colab-df-container {\n",
              "      display:flex;\n",
              "      flex-wrap:wrap;\n",
              "      gap: 12px;\n",
              "    }\n",
              "\n",
              "    .colab-df-convert {\n",
              "      background-color: #E8F0FE;\n",
              "      border: none;\n",
              "      border-radius: 50%;\n",
              "      cursor: pointer;\n",
              "      display: none;\n",
              "      fill: #1967D2;\n",
              "      height: 32px;\n",
              "      padding: 0 0 0 0;\n",
              "      width: 32px;\n",
              "    }\n",
              "\n",
              "    .colab-df-convert:hover {\n",
              "      background-color: #E2EBFA;\n",
              "      box-shadow: 0px 1px 2px rgba(60, 64, 67, 0.3), 0px 1px 3px 1px rgba(60, 64, 67, 0.15);\n",
              "      fill: #174EA6;\n",
              "    }\n",
              "\n",
              "    [theme=dark] .colab-df-convert {\n",
              "      background-color: #3B4455;\n",
              "      fill: #D2E3FC;\n",
              "    }\n",
              "\n",
              "    [theme=dark] .colab-df-convert:hover {\n",
              "      background-color: #434B5C;\n",
              "      box-shadow: 0px 1px 3px 1px rgba(0, 0, 0, 0.15);\n",
              "      filter: drop-shadow(0px 1px 2px rgba(0, 0, 0, 0.3));\n",
              "      fill: #FFFFFF;\n",
              "    }\n",
              "  </style>\n",
              "\n",
              "      <script>\n",
              "        const buttonEl =\n",
              "          document.querySelector('#df-5c4e1635-1e71-4366-a0e8-b44669333782 button.colab-df-convert');\n",
              "        buttonEl.style.display =\n",
              "          google.colab.kernel.accessAllowed ? 'block' : 'none';\n",
              "\n",
              "        async function convertToInteractive(key) {\n",
              "          const element = document.querySelector('#df-5c4e1635-1e71-4366-a0e8-b44669333782');\n",
              "          const dataTable =\n",
              "            await google.colab.kernel.invokeFunction('convertToInteractive',\n",
              "                                                     [key], {});\n",
              "          if (!dataTable) return;\n",
              "\n",
              "          const docLinkHtml = 'Like what you see? Visit the ' +\n",
              "            '<a target=\"_blank\" href=https://colab.research.google.com/notebooks/data_table.ipynb>data table notebook</a>'\n",
              "            + ' to learn more about interactive tables.';\n",
              "          element.innerHTML = '';\n",
              "          dataTable['output_type'] = 'display_data';\n",
              "          await google.colab.output.renderOutput(dataTable, element);\n",
              "          const docLink = document.createElement('div');\n",
              "          docLink.innerHTML = docLinkHtml;\n",
              "          element.appendChild(docLink);\n",
              "        }\n",
              "      </script>\n",
              "    </div>\n",
              "  </div>\n",
              "  "
            ]
          },
          "metadata": {},
          "execution_count": 18
        }
      ]
    },
    {
      "cell_type": "code",
      "source": [
        "#Treat the raw string\n",
        "news_df['Cleaned'] = news_df['description'].apply(clean)\n"
      ],
      "metadata": {
        "id": "8Ws_k4Jag-c4"
      },
      "execution_count": null,
      "outputs": []
    },
    {
      "cell_type": "code",
      "source": [
        "news_df"
      ],
      "metadata": {
        "colab": {
          "base_uri": "https://localhost:8080/",
          "height": 424
        },
        "id": "hzl3gTfBiBjd",
        "outputId": "dd832a54-e10e-4028-c1fb-8bf66c242ff6"
      },
      "execution_count": null,
      "outputs": [
        {
          "output_type": "execute_result",
          "data": {
            "text/plain": [
              "                                            description  \\\n",
              "0     The Russian ambassador said he wanted the UN t...   \n",
              "1     Steve Rosenberg looks at why Vladimir Putin se...   \n",
              "2     Both Ukraine and Russia have reported inflicti...   \n",
              "3     Russia and China refused to condemn Moscow's i...   \n",
              "4     The resolution is approved by 141 countries, w...   \n",
              "...                                                 ...   \n",
              "1282  Since Russia’s full-scale assault began, Ukrai...   \n",
              "1283  Plus: The US Marshals disclose a “major” cyber...   \n",
              "1284  Clearview AI is being used by the Ukrainian go...   \n",
              "1285  Digital traces including social posts and sear...   \n",
              "1286  A new State Department proposal asks other nat...   \n",
              "\n",
              "                                                Cleaned  \n",
              "0     russian ambassador said wanted un commemorate ...  \n",
              "1     steve rosenberg looks vladimir putin set sail ...  \n",
              "2     ukraine russia reported inflicting significant...  \n",
              "3     russia china refused condemn moscow s invasion...  \n",
              "4     resolution approved 141 countries  seven  incl...  \n",
              "...                                                 ...  \n",
              "1282  since russia  fullscale assault began  ukraine...  \n",
              "1283  plus  us marshals disclose  major  cybersecuri...  \n",
              "1284  clearview ai used ukrainian government identif...  \n",
              "1285  digital traces including social posts search q...  \n",
              "1286  new state department proposal asks nations agr...  \n",
              "\n",
              "[1287 rows x 2 columns]"
            ],
            "text/html": [
              "\n",
              "  <div id=\"df-ae4d1dac-a25f-4e6b-aa81-cb36e2aeb55e\">\n",
              "    <div class=\"colab-df-container\">\n",
              "      <div>\n",
              "<style scoped>\n",
              "    .dataframe tbody tr th:only-of-type {\n",
              "        vertical-align: middle;\n",
              "    }\n",
              "\n",
              "    .dataframe tbody tr th {\n",
              "        vertical-align: top;\n",
              "    }\n",
              "\n",
              "    .dataframe thead th {\n",
              "        text-align: right;\n",
              "    }\n",
              "</style>\n",
              "<table border=\"1\" class=\"dataframe\">\n",
              "  <thead>\n",
              "    <tr style=\"text-align: right;\">\n",
              "      <th></th>\n",
              "      <th>description</th>\n",
              "      <th>Cleaned</th>\n",
              "    </tr>\n",
              "  </thead>\n",
              "  <tbody>\n",
              "    <tr>\n",
              "      <th>0</th>\n",
              "      <td>The Russian ambassador said he wanted the UN t...</td>\n",
              "      <td>russian ambassador said wanted un commemorate ...</td>\n",
              "    </tr>\n",
              "    <tr>\n",
              "      <th>1</th>\n",
              "      <td>Steve Rosenberg looks at why Vladimir Putin se...</td>\n",
              "      <td>steve rosenberg looks vladimir putin set sail ...</td>\n",
              "    </tr>\n",
              "    <tr>\n",
              "      <th>2</th>\n",
              "      <td>Both Ukraine and Russia have reported inflicti...</td>\n",
              "      <td>ukraine russia reported inflicting significant...</td>\n",
              "    </tr>\n",
              "    <tr>\n",
              "      <th>3</th>\n",
              "      <td>Russia and China refused to condemn Moscow's i...</td>\n",
              "      <td>russia china refused condemn moscow s invasion...</td>\n",
              "    </tr>\n",
              "    <tr>\n",
              "      <th>4</th>\n",
              "      <td>The resolution is approved by 141 countries, w...</td>\n",
              "      <td>resolution approved 141 countries  seven  incl...</td>\n",
              "    </tr>\n",
              "    <tr>\n",
              "      <th>...</th>\n",
              "      <td>...</td>\n",
              "      <td>...</td>\n",
              "    </tr>\n",
              "    <tr>\n",
              "      <th>1282</th>\n",
              "      <td>Since Russia’s full-scale assault began, Ukrai...</td>\n",
              "      <td>since russia  fullscale assault began  ukraine...</td>\n",
              "    </tr>\n",
              "    <tr>\n",
              "      <th>1283</th>\n",
              "      <td>Plus: The US Marshals disclose a “major” cyber...</td>\n",
              "      <td>plus  us marshals disclose  major  cybersecuri...</td>\n",
              "    </tr>\n",
              "    <tr>\n",
              "      <th>1284</th>\n",
              "      <td>Clearview AI is being used by the Ukrainian go...</td>\n",
              "      <td>clearview ai used ukrainian government identif...</td>\n",
              "    </tr>\n",
              "    <tr>\n",
              "      <th>1285</th>\n",
              "      <td>Digital traces including social posts and sear...</td>\n",
              "      <td>digital traces including social posts search q...</td>\n",
              "    </tr>\n",
              "    <tr>\n",
              "      <th>1286</th>\n",
              "      <td>A new State Department proposal asks other nat...</td>\n",
              "      <td>new state department proposal asks nations agr...</td>\n",
              "    </tr>\n",
              "  </tbody>\n",
              "</table>\n",
              "<p>1287 rows × 2 columns</p>\n",
              "</div>\n",
              "      <button class=\"colab-df-convert\" onclick=\"convertToInteractive('df-ae4d1dac-a25f-4e6b-aa81-cb36e2aeb55e')\"\n",
              "              title=\"Convert this dataframe to an interactive table.\"\n",
              "              style=\"display:none;\">\n",
              "        \n",
              "  <svg xmlns=\"http://www.w3.org/2000/svg\" height=\"24px\"viewBox=\"0 0 24 24\"\n",
              "       width=\"24px\">\n",
              "    <path d=\"M0 0h24v24H0V0z\" fill=\"none\"/>\n",
              "    <path d=\"M18.56 5.44l.94 2.06.94-2.06 2.06-.94-2.06-.94-.94-2.06-.94 2.06-2.06.94zm-11 1L8.5 8.5l.94-2.06 2.06-.94-2.06-.94L8.5 2.5l-.94 2.06-2.06.94zm10 10l.94 2.06.94-2.06 2.06-.94-2.06-.94-.94-2.06-.94 2.06-2.06.94z\"/><path d=\"M17.41 7.96l-1.37-1.37c-.4-.4-.92-.59-1.43-.59-.52 0-1.04.2-1.43.59L10.3 9.45l-7.72 7.72c-.78.78-.78 2.05 0 2.83L4 21.41c.39.39.9.59 1.41.59.51 0 1.02-.2 1.41-.59l7.78-7.78 2.81-2.81c.8-.78.8-2.07 0-2.86zM5.41 20L4 18.59l7.72-7.72 1.47 1.35L5.41 20z\"/>\n",
              "  </svg>\n",
              "      </button>\n",
              "      \n",
              "  <style>\n",
              "    .colab-df-container {\n",
              "      display:flex;\n",
              "      flex-wrap:wrap;\n",
              "      gap: 12px;\n",
              "    }\n",
              "\n",
              "    .colab-df-convert {\n",
              "      background-color: #E8F0FE;\n",
              "      border: none;\n",
              "      border-radius: 50%;\n",
              "      cursor: pointer;\n",
              "      display: none;\n",
              "      fill: #1967D2;\n",
              "      height: 32px;\n",
              "      padding: 0 0 0 0;\n",
              "      width: 32px;\n",
              "    }\n",
              "\n",
              "    .colab-df-convert:hover {\n",
              "      background-color: #E2EBFA;\n",
              "      box-shadow: 0px 1px 2px rgba(60, 64, 67, 0.3), 0px 1px 3px 1px rgba(60, 64, 67, 0.15);\n",
              "      fill: #174EA6;\n",
              "    }\n",
              "\n",
              "    [theme=dark] .colab-df-convert {\n",
              "      background-color: #3B4455;\n",
              "      fill: #D2E3FC;\n",
              "    }\n",
              "\n",
              "    [theme=dark] .colab-df-convert:hover {\n",
              "      background-color: #434B5C;\n",
              "      box-shadow: 0px 1px 3px 1px rgba(0, 0, 0, 0.15);\n",
              "      filter: drop-shadow(0px 1px 2px rgba(0, 0, 0, 0.3));\n",
              "      fill: #FFFFFF;\n",
              "    }\n",
              "  </style>\n",
              "\n",
              "      <script>\n",
              "        const buttonEl =\n",
              "          document.querySelector('#df-ae4d1dac-a25f-4e6b-aa81-cb36e2aeb55e button.colab-df-convert');\n",
              "        buttonEl.style.display =\n",
              "          google.colab.kernel.accessAllowed ? 'block' : 'none';\n",
              "\n",
              "        async function convertToInteractive(key) {\n",
              "          const element = document.querySelector('#df-ae4d1dac-a25f-4e6b-aa81-cb36e2aeb55e');\n",
              "          const dataTable =\n",
              "            await google.colab.kernel.invokeFunction('convertToInteractive',\n",
              "                                                     [key], {});\n",
              "          if (!dataTable) return;\n",
              "\n",
              "          const docLinkHtml = 'Like what you see? Visit the ' +\n",
              "            '<a target=\"_blank\" href=https://colab.research.google.com/notebooks/data_table.ipynb>data table notebook</a>'\n",
              "            + ' to learn more about interactive tables.';\n",
              "          element.innerHTML = '';\n",
              "          dataTable['output_type'] = 'display_data';\n",
              "          await google.colab.output.renderOutput(dataTable, element);\n",
              "          const docLink = document.createElement('div');\n",
              "          docLink.innerHTML = docLinkHtml;\n",
              "          element.appendChild(docLink);\n",
              "        }\n",
              "      </script>\n",
              "    </div>\n",
              "  </div>\n",
              "  "
            ]
          },
          "metadata": {},
          "execution_count": 20
        }
      ]
    },
    {
      "cell_type": "code",
      "source": [
        "#Load another elon twitter reply dataset\n",
        "elon_reply_df = pd.read_csv('tw_reply.csv')"
      ],
      "metadata": {
        "id": "nPjIBp_v7WnM"
      },
      "execution_count": null,
      "outputs": []
    },
    {
      "cell_type": "code",
      "source": [
        "#Treat the raw string\n",
        "elon_reply_df['cleaned'] = elon_reply_df['text'].apply(clean)"
      ],
      "metadata": {
        "id": "9Az_H8RX7og8"
      },
      "execution_count": null,
      "outputs": []
    },
    {
      "cell_type": "code",
      "source": [
        "elon_reply_df"
      ],
      "metadata": {
        "id": "seimtEbBAge3"
      },
      "execution_count": null,
      "outputs": []
    },
    {
      "cell_type": "markdown",
      "source": [
        "Fit the cleaned news data on the best model part 1 trained (Random Forest)"
      ],
      "metadata": {
        "id": "rHD1DIfbynxd"
      }
    },
    {
      "cell_type": "code",
      "source": [
        "X_news_data = tfidf.fit_transform(news_df['Cleaned']) # fit-transform the vectorizer"
      ],
      "metadata": {
        "id": "wH2bQG-kZLUK"
      },
      "execution_count": null,
      "outputs": []
    },
    {
      "cell_type": "code",
      "source": [
        "\n",
        "y_pred_RF_news = bestRFmodel.predict(X_news_data)\n"
      ],
      "metadata": {
        "id": "dwgFBgrKuH0h"
      },
      "execution_count": null,
      "outputs": []
    },
    {
      "cell_type": "code",
      "source": [
        "def pie_plot(label):\n",
        "  plt.figure(figsize=(8, 8))\n",
        "  # count the number of positive and negative labels\n",
        "  pos_count = np.count_nonzero(label)\n",
        "  neg_count = len(label) - pos_count\n",
        "\n",
        "  # calculate the percentages of positive and negative labels\n",
        "  pos_percent = pos_count / len(label) * 100\n",
        "  neg_percent = neg_count / len(label) * 100\n",
        "\n",
        "  # create a pie chart\n",
        "  fig, ax = plt.subplots()\n",
        "  ax.pie([pos_percent, neg_percent], labels=['Positive', 'Negative'], autopct='%1.1f%%')\n",
        "  ax.axis('equal')  # equal aspect ratio ensures that the pie is drawn as a circle\n",
        "  ax.set_title('Percentage of Positive and Negative Labels')\n",
        "\n",
        "  plt.show()"
      ],
      "metadata": {
        "id": "ioV_XdN7xNzP"
      },
      "execution_count": null,
      "outputs": []
    },
    {
      "cell_type": "code",
      "source": [
        "pie_plot(y_pred_RF_news)"
      ],
      "metadata": {
        "id": "i0W3MzrzZbyu"
      },
      "execution_count": null,
      "outputs": []
    },
    {
      "cell_type": "markdown",
      "source": [
        "Fit the cleaned news data on the NLTK pre-trained sentiment model to compare the result with our own model in part 1"
      ],
      "metadata": {
        "id": "jm-RmS7wyvx1"
      }
    },
    {
      "cell_type": "code",
      "source": [
        "from nltk.sentiment.vader import SentimentIntensityAnalyzer\n",
        "\n",
        "def add_sentiment_score(df, text_col):\n",
        "    # create an instance of the SentimentIntensityAnalyzer class\n",
        "    analyzer = SentimentIntensityAnalyzer()\n",
        "\n",
        "    # loop through each row of the dataframe and calculate the compound sentiment score\n",
        "    scores = []\n",
        "    for i, row in df.iterrows():\n",
        "        text = row[text_col]\n",
        "        score = analyzer.polarity_scores(text)['compound']\n",
        "        scores.append(score)\n",
        "\n",
        "    # create a new column in the dataframe based on the compound sentiment score\n",
        "    df['score'] = [1 if score > 0.5 else 0 for score in scores]\n",
        "\n",
        "    return df\n",
        "\n",
        "\n"
      ],
      "metadata": {
        "id": "3j1Ux4rCzfHC"
      },
      "execution_count": null,
      "outputs": []
    },
    {
      "cell_type": "code",
      "source": [
        "add_sentiment_score(news_df, 'Cleaned')"
      ],
      "metadata": {
        "id": "WadY0rcI1K4S"
      },
      "execution_count": null,
      "outputs": []
    },
    {
      "cell_type": "code",
      "source": [
        "pie_plot(news_df['score'])"
      ],
      "metadata": {
        "id": "Et2lliyD1aJ9"
      },
      "execution_count": null,
      "outputs": []
    },
    {
      "cell_type": "markdown",
      "source": [
        "Experiment the the pre-trained NLTK model and part 1 model's performance on another twitter reply dataset"
      ],
      "metadata": {
        "id": "Udqb_SNBAp_Q"
      }
    },
    {
      "cell_type": "code",
      "source": [
        "X_elon_data = tfidf.fit_transform(elon_reply_df['cleaned']) # fit-transform the vectorizer"
      ],
      "metadata": {
        "id": "nEqjBO7W_9XN"
      },
      "execution_count": null,
      "outputs": []
    },
    {
      "cell_type": "code",
      "source": [
        "y_pred_RF_elon = bestRFmodel.predict(X_elon_data)"
      ],
      "metadata": {
        "id": "54VBEuReAE84"
      },
      "execution_count": null,
      "outputs": []
    },
    {
      "cell_type": "code",
      "source": [
        "pie_plot(y_pred_RF_elon)"
      ],
      "metadata": {
        "id": "RtDtflDaAKZJ"
      },
      "execution_count": null,
      "outputs": []
    },
    {
      "cell_type": "code",
      "source": [
        "add_sentiment_score(elon_reply_df, 'cleaned')\n",
        "pie_plot(elon_reply_df['score'])"
      ],
      "metadata": {
        "id": "z1p0e5zpAQWX"
      },
      "execution_count": null,
      "outputs": []
    },
    {
      "cell_type": "markdown",
      "source": [
        "### Comparison with pre-trained model Vader (Python library):\n",
        "\n",
        "Vader is chosen as a comparison to our model as it was designed to detect sentiments expressed in social media, such as Twitter, Facebook. \n",
        "\n",
        "\n",
        "Reference: https://ojs.aaai.org/index.php/ICWSM/article/view/14550/14399\n",
        "\n",
        "https://towardsdatascience.com/the-most-favorable-pre-trained-sentiment-classifiers-in-python-9107c06442c6"
      ],
      "metadata": {
        "id": "T4ueLDKbR2dA"
      }
    },
    {
      "cell_type": "code",
      "source": [
        "#install vaderSentimentlibrary\n",
        "!pip install vaderSentiment\n",
        "\n",
        "#import the library\n",
        "from vaderSentiment.vaderSentiment import SentimentIntensityAnalyzer\n",
        "\n",
        "#calculate the negative, positive, neutral and compound scores, plus verbal evaluation\n",
        "def sentiment_vader(sentence):\n",
        "\n",
        "    # Create a SentimentIntensityAnalyzer object.\n",
        "    sid_obj = SentimentIntensityAnalyzer()\n",
        "\n",
        "    sentiment_dict = sid_obj.polarity_scores(sentence)\n",
        "    negative = sentiment_dict['neg']\n",
        "    neutral = sentiment_dict['neu']\n",
        "    positive = sentiment_dict['pos']\n",
        "    compound = sentiment_dict['compound']\n",
        "\n",
        "    if sentiment_dict['compound'] >= 0.05 :\n",
        "        overall_sentiment = \"Positive\"\n",
        "\n",
        "    elif sentiment_dict['compound'] <= - 0.05 :\n",
        "        overall_sentiment = \"Negative\"\n",
        "\n",
        "    else :\n",
        "        overall_sentiment = \"Neutral\"\n",
        "  \n",
        "    return negative, neutral, positive, compound, overall_sentiment"
      ],
      "metadata": {
        "id": "XIthFNVtR2Bm",
        "outputId": "b4acb2d3-5026-4b09-baa0-014925c64b6c",
        "colab": {
          "base_uri": "https://localhost:8080/"
        }
      },
      "execution_count": null,
      "outputs": [
        {
          "output_type": "stream",
          "name": "stdout",
          "text": [
            "Looking in indexes: https://pypi.org/simple, https://us-python.pkg.dev/colab-wheels/public/simple/\n",
            "Collecting vaderSentiment\n",
            "  Downloading vaderSentiment-3.3.2-py2.py3-none-any.whl (125 kB)\n",
            "\u001b[2K     \u001b[90m━━━━━━━━━━━━━━━━━━━━━━━━━━━━━━━━━━━━━━━\u001b[0m \u001b[32m126.0/126.0 KB\u001b[0m \u001b[31m3.8 MB/s\u001b[0m eta \u001b[36m0:00:00\u001b[0m\n",
            "\u001b[?25hRequirement already satisfied: requests in /usr/local/lib/python3.9/dist-packages (from vaderSentiment) (2.27.1)\n",
            "Requirement already satisfied: urllib3<1.27,>=1.21.1 in /usr/local/lib/python3.9/dist-packages (from requests->vaderSentiment) (1.26.15)\n",
            "Requirement already satisfied: certifi>=2017.4.17 in /usr/local/lib/python3.9/dist-packages (from requests->vaderSentiment) (2022.12.7)\n",
            "Requirement already satisfied: idna<4,>=2.5 in /usr/local/lib/python3.9/dist-packages (from requests->vaderSentiment) (3.4)\n",
            "Requirement already satisfied: charset-normalizer~=2.0.0 in /usr/local/lib/python3.9/dist-packages (from requests->vaderSentiment) (2.0.12)\n",
            "Installing collected packages: vaderSentiment\n",
            "Successfully installed vaderSentiment-3.3.2\n"
          ]
        }
      ]
    },
    {
      "cell_type": "code",
      "source": [
        "negative, neutral, positive, compound, overall_sentiment = sentiment_vader(news_df['Cleaned'])"
      ],
      "metadata": {
        "id": "evdl6kiTS8wf"
      },
      "execution_count": null,
      "outputs": []
    },
    {
      "cell_type": "code",
      "source": [
        "overall_sentiment"
      ],
      "metadata": {
        "id": "xHmNLeDkTlnS",
        "outputId": "cd739915-260a-431b-d710-844405b61eb8",
        "colab": {
          "base_uri": "https://localhost:8080/",
          "height": 35
        }
      },
      "execution_count": null,
      "outputs": [
        {
          "output_type": "execute_result",
          "data": {
            "text/plain": [
              "'Negative'"
            ],
            "application/vnd.google.colaboratory.intrinsic+json": {
              "type": "string"
            }
          },
          "metadata": {},
          "execution_count": 27
        }
      ]
    },
    {
      "cell_type": "code",
      "source": [
        "# create a pie chart\n",
        "fig, ax = plt.subplots()\n",
        "ax.pie([positive, negative, neutral], labels=['Positive', 'Negative', 'Neutral'], autopct='%1.1f%%')\n",
        "ax.axis('equal')  # equal aspect ratio ensures that the pie is drawn as a circle\n",
        "ax.set_title('Percentage of Positive and Negative Labels on news data using Vader')\n",
        "\n",
        "plt.show()\n",
        "     "
      ],
      "metadata": {
        "id": "kWhqwlADhOLy",
        "outputId": "2ef188b7-ae6a-45bf-a2c0-86aed83f75ce",
        "colab": {
          "base_uri": "https://localhost:8080/",
          "height": 264
        }
      },
      "execution_count": null,
      "outputs": [
        {
          "output_type": "display_data",
          "data": {
            "text/plain": [
              "<Figure size 432x288 with 1 Axes>"
            ],
            "image/png": "[encoded data removed]"
          },
          "metadata": {}
        }
      ]
    },
    {
      "cell_type": "code",
      "source": [],
      "metadata": {
        "id": "LMiHAsRRk7yN"
      },
      "execution_count": null,
      "outputs": []
    }
  ]
}